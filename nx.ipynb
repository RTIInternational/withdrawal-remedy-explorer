{
 "cells": [
  {
   "cell_type": "code",
   "execution_count": 1,
   "metadata": {},
   "outputs": [],
   "source": [
    "import pandas as pd\n",
    "import networkx as nx\n",
    "import plotly.graph_objects as go"
   ]
  },
  {
   "cell_type": "markdown",
   "metadata": {},
   "source": [
    "### Prep data"
   ]
  },
  {
   "cell_type": "code",
   "execution_count": 5,
   "metadata": {},
   "outputs": [],
   "source": [
    "def load_data():\n",
    "    remedy_edges = pd.read_parquet(\"data/remedy_edges.parquet\")\n",
    "    source_nodes = pd.read_parquet(\"data/source_nodes.parquet\")\n",
    "    target_nodes = pd.read_parquet(\"data/target_nodes.parquet\")\n",
    "\n",
    "    unique_remedies = source_nodes.id.unique().tolist()\n",
    "    unique_effects = target_nodes.id.unique().tolist()\n",
    "\n",
    "    nodes = source_nodes.append(target_nodes).drop_duplicates()\n",
    "\n",
    "    return unique_remedies, unique_effects, nodes, remedy_edges\n",
    "\n",
    "\n",
    "def filter_on_node(\n",
    "    filter_node: str,\n",
    "    filter_type: str,\n",
    "    nodes: pd.DataFrame,\n",
    "    edges: pd.DataFrame,\n",
    "):\n",
    "    if filter_type == \"Remedy\":\n",
    "        filtered_edges = edges[edges[\"from\"].eq(filter_node)]\n",
    "        filtered_nodes = nodes[\n",
    "            nodes[\"id\"].eq(filter_node) | nodes[\"id\"].isin(filtered_edges[\"to\"])\n",
    "        ]\n",
    "    elif filter_type == \"Effect\":\n",
    "        filtered_edges = edges[edges[\"to\"].eq(filter_node)]\n",
    "        filtered_nodes = nodes[\n",
    "            nodes[\"id\"].eq(filter_node) | nodes[\"id\"].isin(filtered_edges[\"from\"])\n",
    "        ]\n",
    "    else:\n",
    "        raise ValueError(\"Invalid filter type. Try 'Remedy' or 'Effect'.\")\n",
    "    return filtered_nodes, filtered_edges\n",
    "\n",
    "\n",
    "def filter_on_edge_weights(\n",
    "    ppmi_range: tuple,\n",
    "    edge_count_range: tuple,\n",
    "    nodes: pd.DataFrame,\n",
    "    edges: pd.DataFrame,\n",
    "):\n",
    "    filtered_edges = edges[edges[\"ppmi\"].between(ppmi_range[0], ppmi_range[1])]\n",
    "    filtered_edges = filtered_edges[\n",
    "        filtered_edges[\"edge_count\"].between(edge_count_range[0], edge_count_range[1])\n",
    "    ]\n",
    "    filtered_nodes = nodes[\n",
    "        nodes[\"id\"].isin(filtered_edges[\"from\"])\n",
    "        | nodes[\"id\"].isin(filtered_edges[\"to\"])\n",
    "    ]\n",
    "    return filtered_nodes, filtered_edges\n"
   ]
  },
  {
   "cell_type": "code",
   "execution_count": 6,
   "metadata": {},
   "outputs": [],
   "source": [
    "unique_remedies, unique_effects, nodes, remedy_edges = load_data()"
   ]
  },
  {
   "cell_type": "code",
   "execution_count": 7,
   "metadata": {},
   "outputs": [],
   "source": [
    "filtered_nodes, filtered_edges = filter_on_node(\n",
    "    \"oxycodone\", \"Remedy\", nodes, remedy_edges\n",
    ")\n"
   ]
  },
  {
   "cell_type": "markdown",
   "metadata": {},
   "source": [
    "### Testing grouping with dummy edges"
   ]
  },
  {
   "cell_type": "code",
   "execution_count": 8,
   "metadata": {},
   "outputs": [],
   "source": [
    "self_join = filtered_nodes.merge(filtered_nodes, on='category')"
   ]
  },
  {
   "cell_type": "code",
   "execution_count": 9,
   "metadata": {},
   "outputs": [],
   "source": [
    "self_join = self_join[self_join.id_x.ne(self_join.id_y)]"
   ]
  },
  {
   "cell_type": "code",
   "execution_count": 33,
   "metadata": {},
   "outputs": [],
   "source": [
    "self_join_one_only = self_join.groupby('id_x').first().reset_index()"
   ]
  },
  {
   "cell_type": "code",
   "execution_count": 34,
   "metadata": {},
   "outputs": [
    {
     "name": "stderr",
     "output_type": "stream",
     "text": [
      "/Users/apreiss/opt/miniconda3/envs/wre/lib/python3.8/site-packages/pandas/core/frame.py:4300: SettingWithCopyWarning:\n",
      "\n",
      "\n",
      "A value is trying to be set on a copy of a slice from a DataFrame\n",
      "\n",
      "See the caveats in the documentation: https://pandas.pydata.org/pandas-docs/stable/user_guide/indexing.html#returning-a-view-versus-a-copy\n",
      "\n",
      "<ipython-input-34-08e982305328>:3: SettingWithCopyWarning:\n",
      "\n",
      "\n",
      "A value is trying to be set on a copy of a slice from a DataFrame.\n",
      "Try using .loc[row_indexer,col_indexer] = value instead\n",
      "\n",
      "See the caveats in the documentation: https://pandas.pydata.org/pandas-docs/stable/user_guide/indexing.html#returning-a-view-versus-a-copy\n",
      "\n",
      "<ipython-input-34-08e982305328>:4: SettingWithCopyWarning:\n",
      "\n",
      "\n",
      "A value is trying to be set on a copy of a slice from a DataFrame.\n",
      "Try using .loc[row_indexer,col_indexer] = value instead\n",
      "\n",
      "See the caveats in the documentation: https://pandas.pydata.org/pandas-docs/stable/user_guide/indexing.html#returning-a-view-versus-a-copy\n",
      "\n",
      "<ipython-input-34-08e982305328>:5: SettingWithCopyWarning:\n",
      "\n",
      "\n",
      "A value is trying to be set on a copy of a slice from a DataFrame.\n",
      "Try using .loc[row_indexer,col_indexer] = value instead\n",
      "\n",
      "See the caveats in the documentation: https://pandas.pydata.org/pandas-docs/stable/user_guide/indexing.html#returning-a-view-versus-a-copy\n",
      "\n"
     ]
    }
   ],
   "source": [
    "dummy_edges = self_join_one_only[[\"id_x\", \"id_y\", \"category\"]]\n",
    "dummy_edges.rename(\n",
    "    columns={\"id_x\": \"from\", \"id_y\": \"to\", \"category\": \"category_source\"}, inplace=True\n",
    ")\n",
    "dummy_edges[\"category_target\"] = dummy_edges[\"category_source\"]\n",
    "dummy_edges[\"edge_count\"] = 1\n",
    "dummy_edges[\"ppmi\"] = 0.5\n"
   ]
  },
  {
   "cell_type": "code",
   "execution_count": 35,
   "metadata": {},
   "outputs": [],
   "source": [
    "combined_edgelist = filtered_edges.append(dummy_edges)"
   ]
  },
  {
   "cell_type": "code",
   "execution_count": 36,
   "metadata": {},
   "outputs": [],
   "source": [
    "G = nx.from_pandas_edgelist(\n",
    "    combined_edgelist,\n",
    "    source='from',\n",
    "    target='to',\n",
    "    edge_attr=True,\n",
    ")"
   ]
  },
  {
   "cell_type": "code",
   "execution_count": 37,
   "metadata": {},
   "outputs": [
    {
     "name": "stdout",
     "output_type": "stream",
     "text": [
      "count\n",
      "label\n",
      "count_log\n"
     ]
    }
   ],
   "source": [
    "for col in ['count', 'label', 'count_log']:\n",
    "    print(col)\n",
    "    nx.set_node_attributes(G, pd.Series(filtered_nodes[col].values, index=filtered_nodes['id']).to_dict(), name=col)"
   ]
  },
  {
   "cell_type": "code",
   "execution_count": 38,
   "metadata": {},
   "outputs": [],
   "source": [
    "pos = nx.drawing.layout.spring_layout(G)\n",
    "nx.set_node_attributes(G, pos, name='pos')"
   ]
  },
  {
   "cell_type": "markdown",
   "metadata": {},
   "source": [
    "### Create edge trace and node trace"
   ]
  },
  {
   "cell_type": "code",
   "execution_count": 39,
   "metadata": {},
   "outputs": [],
   "source": [
    "edge_traces = []\n",
    "edge_midpoint_x = []\n",
    "edge_midpoint_y = []\n",
    "edge_midpoint_text = []\n",
    "\n",
    "for edge in G.edges():\n",
    "    if G.edges[edge]['category_source'] != G.edges[edge]['category_target']:\n",
    "        x0, y0 = G.nodes[edge[0]]['pos']\n",
    "        x1, y1 = G.nodes[edge[1]]['pos']\n",
    "        ppmi = G.edges[edge]['ppmi']\n",
    "        edge_count = G.edges[edge]['edge_count']\n",
    "        trace = go.Scatter(\n",
    "            x=[x0, x1, None],\n",
    "            y=[y0, y1, None],\n",
    "            line=dict(width = ppmi / 2, color = 'gray'),\n",
    "            mode='lines',\n",
    "        )\n",
    "        edge_traces.append(trace)\n",
    "\n",
    "        edge_midpoint_x.append((x0 + x1) / 2)\n",
    "        edge_midpoint_y.append((y0 + y1) / 2)\n",
    "        edge_midpoint_text.append(f'# connections = {edge_count}<br>ppmi = {round(ppmi, 2)}')\n",
    "\n",
    "edge_midpoint_trace = go.Scatter(\n",
    "    x=edge_midpoint_x, \n",
    "    y=edge_midpoint_y,\n",
    "    mode='markers',\n",
    "    text=edge_midpoint_text,\n",
    "    hoverinfo='text',\n",
    "    marker=dict(\n",
    "        color='grey',\n",
    "        opacity=0,\n",
    "        size=50\n",
    "    )\n",
    ")\n"
   ]
  },
  {
   "cell_type": "code",
   "execution_count": 40,
   "metadata": {},
   "outputs": [],
   "source": [
    "node_x = []\n",
    "node_y = []\n",
    "node_color = []\n",
    "node_size = []\n",
    "node_text = []\n",
    "\n",
    "for node in G.nodes():\n",
    "    x, y = G.nodes[node]['pos']\n",
    "    node_x.append(x)\n",
    "    node_y.append(y)\n",
    "    # if G.nodes[node]['label'] == 'EFFECT':\n",
    "    #     node_color.append('coral')\n",
    "    # elif G.nodes[node]['remedy_type'] == 'Remedy':\n",
    "    #     node_color.append('cornflowerblue')\n",
    "    # else:\n",
    "    #     node_color.append('lightgreen')\n",
    "    node_size.append(G.nodes[node]['count_log'] * 5)\n",
    "    node_text.append(f\"{node}<br>count = {G.nodes[node]['count']}\")\n",
    "\n",
    "node_trace = go.Scatter(\n",
    "    x=node_x, \n",
    "    y=node_y,\n",
    "    mode='markers',\n",
    "    text=node_text,\n",
    "    hoverinfo='text',\n",
    "    marker=dict(\n",
    "        color=node_color,\n",
    "        size=node_size,\n",
    "        line_width=2,\n",
    "        opacity=1\n",
    "    )\n",
    ")"
   ]
  },
  {
   "cell_type": "code",
   "execution_count": 41,
   "metadata": {},
   "outputs": [
    {
     "data": {
      "application/vnd.plotly.v1+json": {
       "config": {
        "plotlyServerURL": "https://plot.ly"
       },
       "data": [
        {
         "line": {
          "color": "gray",
          "width": 0.2040059471941321
         },
         "mode": "lines",
         "type": "scatter",
         "x": [
          0.01749843898072323,
          0.6471623644237875,
          null
         ],
         "y": [
          0.02985587170519783,
          0.5257830071648416,
          null
         ]
        },
        {
         "line": {
          "color": "gray",
          "width": 0
         },
         "mode": "lines",
         "type": "scatter",
         "x": [
          0.01749843898072323,
          0.9111817214647958,
          null
         ],
         "y": [
          0.02985587170519783,
          -0.3495521067275744,
          null
         ]
        },
        {
         "line": {
          "color": "gray",
          "width": 0
         },
         "mode": "lines",
         "type": "scatter",
         "x": [
          0.01749843898072323,
          0.6100028932481957,
          null
         ],
         "y": [
          0.02985587170519783,
          0.7686359237191713,
          null
         ]
        },
        {
         "line": {
          "color": "gray",
          "width": 0
         },
         "mode": "lines",
         "type": "scatter",
         "x": [
          0.01749843898072323,
          0.695000285670917,
          null
         ],
         "y": [
          0.02985587170519783,
          0.2841787865843151,
          null
         ]
        },
        {
         "line": {
          "color": "gray",
          "width": 0.036366034198124446
         },
         "mode": "lines",
         "type": "scatter",
         "x": [
          0.01749843898072323,
          0.9141961236459972,
          null
         ],
         "y": [
          0.02985587170519783,
          0.2795002808635674,
          null
         ]
        },
        {
         "line": {
          "color": "gray",
          "width": 0
         },
         "mode": "lines",
         "type": "scatter",
         "x": [
          0.01749843898072323,
          -0.17850518364555557,
          null
         ],
         "y": [
          0.02985587170519783,
          -0.24311637163050492,
          null
         ]
        },
        {
         "line": {
          "color": "gray",
          "width": 0
         },
         "mode": "lines",
         "type": "scatter",
         "x": [
          0.01749843898072323,
          0.7912488569406035,
          null
         ],
         "y": [
          0.02985587170519783,
          0.4076923152628954,
          null
         ]
        },
        {
         "line": {
          "color": "gray",
          "width": 0
         },
         "mode": "lines",
         "type": "scatter",
         "x": [
          0.01749843898072323,
          -0.3369597012297524,
          null
         ],
         "y": [
          0.02985587170519783,
          0.8160140343285118,
          null
         ]
        },
        {
         "line": {
          "color": "gray",
          "width": 0
         },
         "mode": "lines",
         "type": "scatter",
         "x": [
          0.01749843898072323,
          0.8405926393761078,
          null
         ],
         "y": [
          0.02985587170519783,
          -0.521649454234919,
          null
         ]
        },
        {
         "line": {
          "color": "gray",
          "width": 0.03226989444396518
         },
         "mode": "lines",
         "type": "scatter",
         "x": [
          0.01749843898072323,
          -0.3156055559886311,
          null
         ],
         "y": [
          0.02985587170519783,
          0.9609562431387707,
          null
         ]
        },
        {
         "line": {
          "color": "gray",
          "width": 0.43729009339546304
         },
         "mode": "lines",
         "type": "scatter",
         "x": [
          0.01749843898072323,
          0.9483036249370573,
          null
         ],
         "y": [
          0.02985587170519783,
          -0.17822676039811913,
          null
         ]
        },
        {
         "line": {
          "color": "gray",
          "width": 0
         },
         "mode": "lines",
         "type": "scatter",
         "x": [
          0.01749843898072323,
          -0.7774396274254161,
          null
         ],
         "y": [
          0.02985587170519783,
          -0.3725214267326581,
          null
         ]
        },
        {
         "line": {
          "color": "gray",
          "width": 0
         },
         "mode": "lines",
         "type": "scatter",
         "x": [
          0.01749843898072323,
          -0.1932810947208824,
          null
         ],
         "y": [
          0.02985587170519783,
          0.06442685139717085,
          null
         ]
        },
        {
         "line": {
          "color": "gray",
          "width": 0
         },
         "mode": "lines",
         "type": "scatter",
         "x": [
          0.01749843898072323,
          -0.3920603388121478,
          null
         ],
         "y": [
          0.02985587170519783,
          0.08042462761161134,
          null
         ]
        },
        {
         "line": {
          "color": "gray",
          "width": 0
         },
         "mode": "lines",
         "type": "scatter",
         "x": [
          0.01749843898072323,
          0.5044255832111609,
          null
         ],
         "y": [
          0.02985587170519783,
          0.8525337887603739,
          null
         ]
        },
        {
         "line": {
          "color": "gray",
          "width": 0
         },
         "mode": "lines",
         "type": "scatter",
         "x": [
          0.01749843898072323,
          -0.47065049370540085,
          null
         ],
         "y": [
          0.02985587170519783,
          -0.7583781848029297,
          null
         ]
        },
        {
         "line": {
          "color": "gray",
          "width": 0
         },
         "mode": "lines",
         "type": "scatter",
         "x": [
          0.01749843898072323,
          0.8070609990142429,
          null
         ],
         "y": [
          0.02985587170519783,
          0.12614938802345607,
          null
         ]
        },
        {
         "line": {
          "color": "gray",
          "width": 0
         },
         "mode": "lines",
         "type": "scatter",
         "x": [
          0.01749843898072323,
          0.12775536994823125,
          null
         ],
         "y": [
          0.02985587170519783,
          -0.300427281292227,
          null
         ]
        },
        {
         "line": {
          "color": "gray",
          "width": 0
         },
         "mode": "lines",
         "type": "scatter",
         "x": [
          0.01749843898072323,
          -0.38507700202075174,
          null
         ],
         "y": [
          0.02985587170519783,
          0.4023066307852257,
          null
         ]
        },
        {
         "line": {
          "color": "gray",
          "width": 0
         },
         "mode": "lines",
         "type": "scatter",
         "x": [
          0.01749843898072323,
          0.3191181715342749,
          null
         ],
         "y": [
          0.02985587170519783,
          -0.73599048546528,
          null
         ]
        },
        {
         "line": {
          "color": "gray",
          "width": 0
         },
         "mode": "lines",
         "type": "scatter",
         "x": [
          0.01749843898072323,
          -0.15096103761933868,
          null
         ],
         "y": [
          0.02985587170519783,
          -0.6962744791723098,
          null
         ]
        },
        {
         "line": {
          "color": "gray",
          "width": 0
         },
         "mode": "lines",
         "type": "scatter",
         "x": [
          0.01749843898072323,
          0.2578805809812308,
          null
         ],
         "y": [
          0.02985587170519783,
          0.19031820434379093,
          null
         ]
        },
        {
         "line": {
          "color": "gray",
          "width": 0
         },
         "mode": "lines",
         "type": "scatter",
         "x": [
          0.01749843898072323,
          -0.8183316656873388,
          null
         ],
         "y": [
          0.02985587170519783,
          -0.08671812474131843,
          null
         ]
        },
        {
         "line": {
          "color": "gray",
          "width": 0
         },
         "mode": "lines",
         "type": "scatter",
         "x": [
          0.01749843898072323,
          -0.6292836401502656,
          null
         ],
         "y": [
          0.02985587170519783,
          0.05837724357277391,
          null
         ]
        },
        {
         "line": {
          "color": "gray",
          "width": 0
         },
         "mode": "lines",
         "type": "scatter",
         "x": [
          0.01749843898072323,
          0.37174450253122765,
          null
         ],
         "y": [
          0.02985587170519783,
          0.8903534742907241,
          null
         ]
        },
        {
         "line": {
          "color": "gray",
          "width": 0
         },
         "mode": "lines",
         "type": "scatter",
         "x": [
          0.01749843898072323,
          -0.47228267536015683,
          null
         ],
         "y": [
          0.02985587170519783,
          -0.602087880455963,
          null
         ]
        },
        {
         "line": {
          "color": "gray",
          "width": 0
         },
         "mode": "lines",
         "type": "scatter",
         "x": [
          0.01749843898072323,
          -0.7343281540098332,
          null
         ],
         "y": [
          0.02985587170519783,
          0.18761775045453383,
          null
         ]
        },
        {
         "line": {
          "color": "gray",
          "width": 0.1480657252612058
         },
         "mode": "lines",
         "type": "scatter",
         "x": [
          0.01749843898072323,
          -0.4606367817488863,
          null
         ],
         "y": [
          0.02985587170519783,
          -0.08670796890768973,
          null
         ]
        },
        {
         "line": {
          "color": "gray",
          "width": 0
         },
         "mode": "lines",
         "type": "scatter",
         "x": [
          0.01749843898072323,
          0.30023782401232485,
          null
         ],
         "y": [
          0.02985587170519783,
          -0.43928437569393397,
          null
         ]
        },
        {
         "line": {
          "color": "gray",
          "width": 0
         },
         "mode": "lines",
         "type": "scatter",
         "x": [
          0.01749843898072323,
          0.38332615721645097,
          null
         ],
         "y": [
          0.02985587170519783,
          -0.29220605581999554,
          null
         ]
        },
        {
         "line": {
          "color": "gray",
          "width": 1.259911300523397
         },
         "mode": "lines",
         "type": "scatter",
         "x": [
          0.01749843898072323,
          0.09407584040610943,
          null
         ],
         "y": [
          0.02985587170519783,
          -0.4874297123155962,
          null
         ]
        },
        {
         "line": {
          "color": "gray",
          "width": 0
         },
         "mode": "lines",
         "type": "scatter",
         "x": [
          0.01749843898072323,
          0.16736279613770558,
          null
         ],
         "y": [
          0.02985587170519783,
          -0.703404795239698,
          null
         ]
        },
        {
         "line": {
          "color": "gray",
          "width": 0.8052261560086065
         },
         "mode": "lines",
         "type": "scatter",
         "x": [
          0.01749843898072323,
          0.41766524356489787,
          null
         ],
         "y": [
          0.02985587170519783,
          -0.6274111429931849,
          null
         ]
        },
        {
         "line": {
          "color": "gray",
          "width": 0.1593869636360857
         },
         "mode": "lines",
         "type": "scatter",
         "x": [
          0.01749843898072323,
          0.4424060164675831,
          null
         ],
         "y": [
          0.02985587170519783,
          -0.04434516386766515,
          null
         ]
        },
        {
         "line": {
          "color": "gray",
          "width": 0
         },
         "mode": "lines",
         "type": "scatter",
         "x": [
          0.01749843898072323,
          -0.5031025754779741,
          null
         ],
         "y": [
          0.02985587170519783,
          -0.25182768939815936,
          null
         ]
        },
        {
         "line": {
          "color": "gray",
          "width": 0
         },
         "mode": "lines",
         "type": "scatter",
         "x": [
          0.01749843898072323,
          -0.8172940765665454,
          null
         ],
         "y": [
          0.02985587170519783,
          -0.22803914306205383,
          null
         ]
        },
        {
         "line": {
          "color": "gray",
          "width": 1.0079587100626886
         },
         "mode": "lines",
         "type": "scatter",
         "x": [
          0.01749843898072323,
          -0.11617763595001536,
          null
         ],
         "y": [
          0.02985587170519783,
          0.9999999999999999,
          null
         ]
        },
        {
         "line": {
          "color": "gray",
          "width": 0
         },
         "mode": "lines",
         "type": "scatter",
         "x": [
          0.01749843898072323,
          0.942685703276772,
          null
         ],
         "y": [
          0.02985587170519783,
          0.14293858237727308,
          null
         ]
        },
        {
         "line": {
          "color": "gray",
          "width": 0
         },
         "mode": "lines",
         "type": "scatter",
         "x": [
          0.01749843898072323,
          0.009736009753376778,
          null
         ],
         "y": [
          0.02985587170519783,
          0.9056856979356896,
          null
         ]
        },
        {
         "line": {
          "color": "gray",
          "width": 0
         },
         "mode": "lines",
         "type": "scatter",
         "x": [
          0.01749843898072323,
          -0.6141241907021247,
          null
         ],
         "y": [
          0.02985587170519783,
          -0.42910400150854366,
          null
         ]
        },
        {
         "line": {
          "color": "gray",
          "width": 0
         },
         "mode": "lines",
         "type": "scatter",
         "x": [
          0.01749843898072323,
          0.47087695351091374,
          null
         ],
         "y": [
          0.02985587170519783,
          -0.5021711377694189,
          null
         ]
        },
        {
         "line": {
          "color": "gray",
          "width": 0
         },
         "mode": "lines",
         "type": "scatter",
         "x": [
          0.01749843898072323,
          -0.6119732798446708,
          null
         ],
         "y": [
          0.02985587170519783,
          -0.638822863633439,
          null
         ]
        },
        {
         "line": {
          "color": "gray",
          "width": 0
         },
         "mode": "lines",
         "type": "scatter",
         "x": [
          0.01749843898072323,
          0.4850305891147943,
          null
         ],
         "y": [
          0.02985587170519783,
          0.5710431533083402,
          null
         ]
        },
        {
         "line": {
          "color": "gray",
          "width": 0.0747172023506928
         },
         "mode": "lines",
         "type": "scatter",
         "x": [
          0.01749843898072323,
          -0.5784694659867885,
          null
         ],
         "y": [
          0.02985587170519783,
          0.7386146033620843,
          null
         ]
        },
        {
         "line": {
          "color": "gray",
          "width": 0
         },
         "mode": "lines",
         "type": "scatter",
         "x": [
          0.01749843898072323,
          0.8279525618951856,
          null
         ],
         "y": [
          0.02985587170519783,
          0.5745645836391682,
          null
         ]
        },
        {
         "line": {
          "color": "gray",
          "width": 0
         },
         "mode": "lines",
         "type": "scatter",
         "x": [
          0.01749843898072323,
          -0.501704969402138,
          null
         ],
         "y": [
          0.02985587170519783,
          0.8553212155778069,
          null
         ]
        },
        {
         "line": {
          "color": "gray",
          "width": 0
         },
         "mode": "lines",
         "type": "scatter",
         "x": [
          0.01749843898072323,
          0.9477160053390937,
          null
         ],
         "y": [
          0.02985587170519783,
          0.42819912737654797,
          null
         ]
        },
        {
         "line": {
          "color": "gray",
          "width": 0
         },
         "mode": "lines",
         "type": "scatter",
         "x": [
          0.01749843898072323,
          -0.0928405916781875,
          null
         ],
         "y": [
          0.02985587170519783,
          -0.5009692836122939,
          null
         ]
        },
        {
         "line": {
          "color": "gray",
          "width": 0
         },
         "mode": "lines",
         "type": "scatter",
         "x": [
          0.01749843898072323,
          0.1335962965798809,
          null
         ],
         "y": [
          0.02985587170519783,
          0.3146325502984035,
          null
         ]
        },
        {
         "line": {
          "color": "gray",
          "width": 0
         },
         "mode": "lines",
         "type": "scatter",
         "x": [
          0.01749843898072323,
          0.40399914678430804,
          null
         ],
         "y": [
          0.02985587170519783,
          0.6949760402067557,
          null
         ]
        },
        {
         "line": {
          "color": "gray",
          "width": 0
         },
         "mode": "lines",
         "type": "scatter",
         "x": [
          0.01749843898072323,
          0.1546275751866292,
          null
         ],
         "y": [
          0.02985587170519783,
          -0.8316529069685079,
          null
         ]
        },
        {
         "line": {
          "color": "gray",
          "width": 0
         },
         "mode": "lines",
         "type": "scatter",
         "x": [
          0.01749843898072323,
          0.7398805328880512,
          null
         ],
         "y": [
          0.02985587170519783,
          0.7033042372510633,
          null
         ]
        },
        {
         "line": {
          "color": "gray",
          "width": 0
         },
         "mode": "lines",
         "type": "scatter",
         "x": [
          0.01749843898072323,
          0.5080766056277835,
          null
         ],
         "y": [
          0.02985587170519783,
          -0.18965426038474287,
          null
         ]
        },
        {
         "line": {
          "color": "gray",
          "width": 0
         },
         "mode": "lines",
         "type": "scatter",
         "x": [
          0.01749843898072323,
          0.01857293448692674,
          null
         ],
         "y": [
          0.02985587170519783,
          -0.6592225952563759,
          null
         ]
        },
        {
         "line": {
          "color": "gray",
          "width": 0
         },
         "mode": "lines",
         "type": "scatter",
         "x": [
          0.01749843898072323,
          -0.21991815096044237,
          null
         ],
         "y": [
          0.02985587170519783,
          0.4316861674396895,
          null
         ]
        },
        {
         "line": {
          "color": "gray",
          "width": 0
         },
         "mode": "lines",
         "type": "scatter",
         "x": [
          0.01749843898072323,
          -0.11311752163358871,
          null
         ],
         "y": [
          0.02985587170519783,
          -0.847902923507344,
          null
         ]
        },
        {
         "line": {
          "color": "gray",
          "width": 0
         },
         "mode": "lines",
         "type": "scatter",
         "x": [
          0.01749843898072323,
          -0.039616547021714354,
          null
         ],
         "y": [
          0.02985587170519783,
          0.2547431813417881,
          null
         ]
        },
        {
         "line": {
          "color": "gray",
          "width": 0.3640315659093696
         },
         "mode": "lines",
         "type": "scatter",
         "x": [
          0.01749843898072323,
          -0.6863167171276713,
          null
         ],
         "y": [
          0.02985587170519783,
          0.6537501363207285,
          null
         ]
        },
        {
         "line": {
          "color": "gray",
          "width": 1.2429605246855564
         },
         "mode": "lines",
         "type": "scatter",
         "x": [
          0.01749843898072323,
          -0.2853525601086352,
          null
         ],
         "y": [
          0.02985587170519783,
          -0.5816073049224573,
          null
         ]
        },
        {
         "line": {
          "color": "gray",
          "width": 0
         },
         "mode": "lines",
         "type": "scatter",
         "x": [
          0.01749843898072323,
          -0.14630468044022993,
          null
         ],
         "y": [
          0.02985587170519783,
          0.8338165861251831,
          null
         ]
        },
        {
         "line": {
          "color": "gray",
          "width": 0.44495307863457656
         },
         "mode": "lines",
         "type": "scatter",
         "x": [
          0.01749843898072323,
          -0.047302041670355684,
          null
         ],
         "y": [
          0.02985587170519783,
          0.4223716856980556,
          null
         ]
        },
        {
         "line": {
          "color": "gray",
          "width": 0
         },
         "mode": "lines",
         "type": "scatter",
         "x": [
          0.01749843898072323,
          -0.6475511558690263,
          null
         ],
         "y": [
          0.02985587170519783,
          0.305933725835855,
          null
         ]
        },
        {
         "line": {
          "color": "gray",
          "width": 0.18282875658551084
         },
         "mode": "lines",
         "type": "scatter",
         "x": [
          0.01749843898072323,
          -0.7131965108416964,
          null
         ],
         "y": [
          0.02985587170519783,
          -0.5235988965162331,
          null
         ]
        },
        {
         "line": {
          "color": "gray",
          "width": 1.002777316544915
         },
         "mode": "lines",
         "type": "scatter",
         "x": [
          0.01749843898072323,
          -0.6630091652572946,
          null
         ],
         "y": [
          0.02985587170519783,
          -0.25041780329013047,
          null
         ]
        },
        {
         "line": {
          "color": "gray",
          "width": 0.320047179436391
         },
         "mode": "lines",
         "type": "scatter",
         "x": [
          0.01749843898072323,
          -0.4921440999664758,
          null
         ],
         "y": [
          0.02985587170519783,
          0.31987883505253445,
          null
         ]
        },
        {
         "line": {
          "color": "gray",
          "width": 0.9398926229003985
         },
         "mode": "lines",
         "type": "scatter",
         "x": [
          0.01749843898072323,
          0.017427525038325422,
          null
         ],
         "y": [
          0.02985587170519783,
          -0.8199837597309942,
          null
         ]
        },
        {
         "line": {
          "color": "gray",
          "width": 1.210691264116771
         },
         "mode": "lines",
         "type": "scatter",
         "x": [
          0.01749843898072323,
          -0.3339615287478712,
          null
         ],
         "y": [
          0.02985587170519783,
          -0.7325080885816604,
          null
         ]
        },
        {
         "line": {
          "color": "gray",
          "width": 0.2422205245804943
         },
         "mode": "lines",
         "type": "scatter",
         "x": [
          0.01749843898072323,
          -0.541821319674075,
          null
         ],
         "y": [
          0.02985587170519783,
          0.1745246432348222,
          null
         ]
        },
        {
         "line": {
          "color": "gray",
          "width": 0.682664926992114
         },
         "mode": "lines",
         "type": "scatter",
         "x": [
          0.01749843898072323,
          -0.46209924869140745,
          null
         ],
         "y": [
          0.02985587170519783,
          -0.4344376483932089,
          null
         ]
        },
        {
         "line": {
          "color": "gray",
          "width": 0
         },
         "mode": "lines",
         "type": "scatter",
         "x": [
          0.01749843898072323,
          0.5259695898713405,
          null
         ],
         "y": [
          0.02985587170519783,
          -0.36720694741269644,
          null
         ]
        },
        {
         "line": {
          "color": "gray",
          "width": 0.05318745762046935
         },
         "mode": "lines",
         "type": "scatter",
         "x": [
          0.01749843898072323,
          -0.8009800595871631,
          null
         ],
         "y": [
          0.02985587170519783,
          0.05576816381314979,
          null
         ]
        },
        {
         "line": {
          "color": "gray",
          "width": 0.09166797818853355
         },
         "mode": "lines",
         "type": "scatter",
         "x": [
          0.01749843898072323,
          -0.2738024894257513,
          null
         ],
         "y": [
          0.02985587170519783,
          0.26149910488692957,
          null
         ]
        },
        {
         "line": {
          "color": "gray",
          "width": 0.2388535084898223
         },
         "mode": "lines",
         "type": "scatter",
         "x": [
          0.01749843898072323,
          -0.6629809102253731,
          null
         ],
         "y": [
          0.02985587170519783,
          -0.08602094464188603,
          null
         ]
        },
        {
         "line": {
          "color": "gray",
          "width": 1.173079553497977
         },
         "mode": "lines",
         "type": "scatter",
         "x": [
          0.01749843898072323,
          0.274079824901286,
          null
         ],
         "y": [
          0.02985587170519783,
          0.7706005795986763,
          null
         ]
        },
        {
         "line": {
          "color": "gray",
          "width": 0.6936543803515015
         },
         "mode": "lines",
         "type": "scatter",
         "x": [
          0.01749843898072323,
          0.2564724458593596,
          null
         ],
         "y": [
          0.02985587170519783,
          -0.5848545898847575,
          null
         ]
        },
        {
         "line": {
          "color": "gray",
          "width": 0.4586525657286338
         },
         "mode": "lines",
         "type": "scatter",
         "x": [
          0.01749843898072323,
          -0.2627615082781788,
          null
         ],
         "y": [
          0.02985587170519783,
          -0.8472047493862349,
          null
         ]
        },
        {
         "line": {
          "color": "gray",
          "width": 0.8487318445034215
         },
         "mode": "lines",
         "type": "scatter",
         "x": [
          0.01749843898072323,
          0.25384797423854794,
          null
         ],
         "y": [
          0.02985587170519783,
          -0.15765962552327376,
          null
         ]
        },
        {
         "line": {
          "color": "gray",
          "width": 0.8487318445034215
         },
         "mode": "lines",
         "type": "scatter",
         "x": [
          0.01749843898072323,
          0.3057594538394603,
          null
         ],
         "y": [
          0.02985587170519783,
          0.03863971587935456,
          null
         ]
        },
        {
         "line": {
          "color": "gray",
          "width": 0.8193115944919545
         },
         "mode": "lines",
         "type": "scatter",
         "x": [
          0.01749843898072323,
          -0.3012278086459247,
          null
         ],
         "y": [
          0.02985587170519783,
          -0.3870178046908556,
          null
         ]
        },
        {
         "hoverinfo": "text",
         "marker": {
          "color": [],
          "line": {
           "width": 2
          },
          "opacity": 1,
          "size": [
           51.15099005977694,
           55.62276717144121,
           50.415694403871015,
           49.126548857360525,
           51.582454218412906,
           48.87599766117298,
           45.638596716439224,
           48.74964182204913,
           45.63588065357707,
           45.658108936323885,
           43.83508810655889,
           38.257977869288005,
           40.387235746655996,
           36.98780767762026,
           39.602232525713035,
           40.41201126963122,
           33.166592166401884,
           37.52746137368712,
           38.64207889920521,
           34.97883078152425,
           38.75307366385205,
           34.43776285832308,
           29.869048059346305,
           33.06020517416546,
           32.23652931270606,
           34.681713679170244,
           29.957322735539908,
           27.936243292001247,
           24.489198999754556,
           27.627264695658916,
           27.841722518805483,
           23.767950955531823,
           27.506291052723636,
           17.91759469228055,
           27.841722518805483,
           27.7453804244761,
           31.16224008275261,
           21.383330595080277,
           56.34298290431517,
           50.96602526049989,
           45.75135922755032,
           44.50819466150163,
           46.120230095161475,
           44.53738488764369,
           42.05916337879206,
           45.65648582317864,
           39.865777167220664,
           47.21439822465378,
           40.04847678871461,
           36.73649850371582,
           38.77669406423251,
           38.49694703128368,
           37.94667911585309,
           38.1716861781416,
           36.07987501325733,
           33.60712850395322,
           31.86659894788506,
           31.15240723789241,
           25.795276496072646,
           20.471722811110503,
           28.485467432527024,
           24.98606136882057,
           29.4857693381837,
           24.14156868651151,
           26.339290795316643,
           22.769384458002705,
           20.036665926162357,
           13.862943611198906,
           27.013386909361397,
           19.143206982445477,
           29.62127898707266,
           25.437981676161918,
           25.053176470481276,
           30.512792973067846,
           21.1705325229863,
           24.526373892192147,
           21.383330595080277,
           17.482537807332402,
           17.482537807332402,
           17.776740307447067
          ]
         },
         "mode": "markers",
         "text": [
          "oxycodone<br>count = 27728",
          "muscle aches<br>count = 67816",
          "other<br>count = 23936",
          "vomiting<br>count = 18496",
          "insomnia<br>count = 30227",
          "nausea<br>count = 17592",
          "psychosis<br>count = 9207",
          "sweating<br>count = 17153",
          "sedation<br>count = 9202",
          "seizures<br>count = 9243",
          "pruritus<br>count = 6419",
          "respiratory depression<br>count = 2104",
          "malaise<br>count = 3221",
          "mood swings<br>count = 1632",
          "irritability<br>count = 2753",
          "rhinorrhea<br>count = 3237",
          "hiccups<br>count = 760",
          "lacrimation<br>count = 1818",
          "trembling<br>count = 2272",
          "tingling<br>count = 1092",
          "lightheadedness<br>count = 2323",
          "sialorhhea<br>count = 980",
          "pneumonia<br>count = 393",
          "shortness of breath<br>count = 744",
          "numbness<br>count = 631",
          "yawning<br>count = 1029",
          "slurring<br>count = 400",
          "toothache<br>count = 267",
          "suicidality<br>count = 134",
          "sore throat<br>count = 251",
          "libido<br>count = 262",
          "pain reliever<br>count = 116",
          "narcolepsy<br>count = 245",
          "tics<br>count = 36",
          "mood symptoms<br>count = 262",
          "syncope<br>count = 257",
          "sleep paralysis<br>count = 509",
          "miosis<br>count = 72",
          "dysphoria<br>count = 78323",
          "craving<br>count = 26721",
          "fatigue<br>count = 9417",
          "anxiety<br>count = 7344",
          "headache<br>count = 10138",
          "diarrhea<br>count = 7387",
          "constipation<br>count = 4500",
          "fever<br>count = 9240",
          "hangover<br>count = 2902",
          "RLS<br>count = 12618",
          "appetite<br>count = 3010",
          "cognitive impairment<br>count = 1552",
          "dehydration<br>count = 2334",
          "agitation<br>count = 2207",
          "body aches<br>count = 1977",
          "energy<br>count = 2068",
          "cardiac issues<br>count = 1361",
          "cough<br>count = 830",
          "blacking out<br>count = 586",
          "chest pain<br>count = 508",
          "cns depression<br>count = 174",
          "energetic<br>count = 60",
          "dry mouth<br>count = 298",
          "convulsions<br>count = 148",
          "anemia<br>count = 364",
          "allergies<br>count = 125",
          "chronic pain<br>count = 194",
          "erectile dysfuntion<br>count = 95",
          "anxiolysis<br>count = 55",
          "cough suppression<br>count = 16",
          "PMS<br>count = 222",
          "gas<br>count = 46",
          "GERD<br>count = 374",
          "stomach ulcers<br>count = 162",
          "weakness<br>count = 150",
          "nerve pain<br>count = 447",
          "nv<br>count = 69",
          "analgesia<br>count = 135",
          "muscle relaxation<br>count = 72",
          "temperature<br>count = 33",
          "hyperalgesia<br>count = 33",
          "panting<br>count = 35"
         ],
         "type": "scatter",
         "x": [
          0.01749843898072323,
          0.6471623644237875,
          0.9111817214647958,
          0.6100028932481957,
          0.695000285670917,
          0.9141961236459972,
          -0.17850518364555557,
          0.7912488569406035,
          -0.3369597012297524,
          0.8405926393761078,
          -0.3156055559886311,
          0.9483036249370573,
          -0.7774396274254161,
          -0.1932810947208824,
          -0.3920603388121478,
          0.5044255832111609,
          -0.47065049370540085,
          0.8070609990142429,
          0.12775536994823125,
          -0.38507700202075174,
          0.3191181715342749,
          -0.15096103761933868,
          0.2578805809812308,
          -0.8183316656873388,
          -0.6292836401502656,
          0.37174450253122765,
          -0.47228267536015683,
          -0.7343281540098332,
          -0.4606367817488863,
          0.30023782401232485,
          0.38332615721645097,
          0.09407584040610943,
          0.16736279613770558,
          0.41766524356489787,
          0.4424060164675831,
          -0.5031025754779741,
          -0.8172940765665454,
          -0.11617763595001536,
          0.942685703276772,
          0.009736009753376778,
          -0.6141241907021247,
          0.47087695351091374,
          -0.6119732798446708,
          0.4850305891147943,
          -0.5784694659867885,
          0.8279525618951856,
          -0.501704969402138,
          0.9477160053390937,
          -0.0928405916781875,
          0.1335962965798809,
          0.40399914678430804,
          0.1546275751866292,
          0.7398805328880512,
          0.5080766056277835,
          0.01857293448692674,
          -0.21991815096044237,
          -0.11311752163358871,
          -0.039616547021714354,
          -0.6863167171276713,
          -0.2853525601086352,
          -0.14630468044022993,
          -0.047302041670355684,
          -0.6475511558690263,
          -0.7131965108416964,
          -0.6630091652572946,
          -0.4921440999664758,
          0.017427525038325422,
          -0.3339615287478712,
          -0.541821319674075,
          -0.46209924869140745,
          0.5259695898713405,
          -0.8009800595871631,
          -0.2738024894257513,
          -0.6629809102253731,
          0.274079824901286,
          0.2564724458593596,
          -0.2627615082781788,
          0.25384797423854794,
          0.3057594538394603,
          -0.3012278086459247
         ],
         "y": [
          0.02985587170519783,
          0.5257830071648416,
          -0.3495521067275744,
          0.7686359237191713,
          0.2841787865843151,
          0.2795002808635674,
          -0.24311637163050492,
          0.4076923152628954,
          0.8160140343285118,
          -0.521649454234919,
          0.9609562431387707,
          -0.17822676039811913,
          -0.3725214267326581,
          0.06442685139717085,
          0.08042462761161134,
          0.8525337887603739,
          -0.7583781848029297,
          0.12614938802345607,
          -0.300427281292227,
          0.4023066307852257,
          -0.73599048546528,
          -0.6962744791723098,
          0.19031820434379093,
          -0.08671812474131843,
          0.05837724357277391,
          0.8903534742907241,
          -0.602087880455963,
          0.18761775045453383,
          -0.08670796890768973,
          -0.43928437569393397,
          -0.29220605581999554,
          -0.4874297123155962,
          -0.703404795239698,
          -0.6274111429931849,
          -0.04434516386766515,
          -0.25182768939815936,
          -0.22803914306205383,
          0.9999999999999999,
          0.14293858237727308,
          0.9056856979356896,
          -0.42910400150854366,
          -0.5021711377694189,
          -0.638822863633439,
          0.5710431533083402,
          0.7386146033620843,
          0.5745645836391682,
          0.8553212155778069,
          0.42819912737654797,
          -0.5009692836122939,
          0.3146325502984035,
          0.6949760402067557,
          -0.8316529069685079,
          0.7033042372510633,
          -0.18965426038474287,
          -0.6592225952563759,
          0.4316861674396895,
          -0.847902923507344,
          0.2547431813417881,
          0.6537501363207285,
          -0.5816073049224573,
          0.8338165861251831,
          0.4223716856980556,
          0.305933725835855,
          -0.5235988965162331,
          -0.25041780329013047,
          0.31987883505253445,
          -0.8199837597309942,
          -0.7325080885816604,
          0.1745246432348222,
          -0.4344376483932089,
          -0.36720694741269644,
          0.05576816381314979,
          0.26149910488692957,
          -0.08602094464188603,
          0.7706005795986763,
          -0.5848545898847575,
          -0.8472047493862349,
          -0.15765962552327376,
          0.03863971587935456,
          -0.3870178046908556
         ]
        },
        {
         "hoverinfo": "text",
         "marker": {
          "color": "grey",
          "opacity": 0,
          "size": 50
         },
         "mode": "markers",
         "text": [
          "# connections = 566<br>ppmi = 0.41",
          "# connections = 52<br>ppmi = 0.0",
          "# connections = 65<br>ppmi = 0.0",
          "# connections = 39<br>ppmi = 0.0",
          "# connections = 105<br>ppmi = 0.07",
          "# connections = 12<br>ppmi = 0.0",
          "# connections = 24<br>ppmi = 0.0",
          "# connections = 47<br>ppmi = 0.0",
          "# connections = 32<br>ppmi = 0.0",
          "# connections = 38<br>ppmi = 0.06",
          "# connections = 28<br>ppmi = 0.87",
          "# connections = 2<br>ppmi = 0.0",
          "# connections = 9<br>ppmi = 0.0",
          "# connections = 3<br>ppmi = 0.0",
          "# connections = 1<br>ppmi = 0.0",
          "# connections = 4<br>ppmi = 0.0",
          "# connections = 2<br>ppmi = 0.0",
          "# connections = 1<br>ppmi = 0.0",
          "# connections = 4<br>ppmi = 0.0",
          "# connections = 1<br>ppmi = 0.0",
          "# connections = 2<br>ppmi = 0.0",
          "# connections = 1<br>ppmi = 0.0",
          "# connections = 3<br>ppmi = 0.0",
          "# connections = 1<br>ppmi = 0.0",
          "# connections = 1<br>ppmi = 0.0",
          "# connections = 2<br>ppmi = 0.0",
          "# connections = 1<br>ppmi = 0.0",
          "# connections = 1<br>ppmi = 0.3",
          "# connections = 1<br>ppmi = 0.0",
          "# connections = 1<br>ppmi = 0.0",
          "# connections = 8<br>ppmi = 2.52",
          "# connections = 1<br>ppmi = 0.0",
          "# connections = 1<br>ppmi = 1.61",
          "# connections = 2<br>ppmi = 0.32",
          "# connections = 1<br>ppmi = 0.0",
          "# connections = 2<br>ppmi = 0.0",
          "# connections = 3<br>ppmi = 2.02",
          "# connections = 138<br>ppmi = 0.0",
          "# connections = 35<br>ppmi = 0.0",
          "# connections = 31<br>ppmi = 0.0",
          "# connections = 13<br>ppmi = 0.0",
          "# connections = 34<br>ppmi = 0.0",
          "# connections = 11<br>ppmi = 0.0",
          "# connections = 29<br>ppmi = 0.15",
          "# connections = 8<br>ppmi = 0.0",
          "# connections = 5<br>ppmi = 0.0",
          "# connections = 19<br>ppmi = 0.0",
          "# connections = 4<br>ppmi = 0.0",
          "# connections = 3<br>ppmi = 0.0",
          "# connections = 4<br>ppmi = 0.0",
          "# connections = 2<br>ppmi = 0.0",
          "# connections = 5<br>ppmi = 0.0",
          "# connections = 4<br>ppmi = 0.0",
          "# connections = 6<br>ppmi = 0.0",
          "# connections = 3<br>ppmi = 0.0",
          "# connections = 2<br>ppmi = 0.0",
          "# connections = 1<br>ppmi = 0.0",
          "# connections = 2<br>ppmi = 0.73",
          "# connections = 4<br>ppmi = 2.49",
          "# connections = 1<br>ppmi = 0.0",
          "# connections = 2<br>ppmi = 0.89",
          "# connections = 2<br>ppmi = 0.0",
          "# connections = 1<br>ppmi = 0.37",
          "# connections = 8<br>ppmi = 2.01",
          "# connections = 1<br>ppmi = 0.64",
          "# connections = 2<br>ppmi = 1.88",
          "# connections = 1<br>ppmi = 2.42",
          "# connections = 2<br>ppmi = 0.48",
          "# connections = 1<br>ppmi = 1.37",
          "# connections = 1<br>ppmi = 0.0",
          "# connections = 1<br>ppmi = 0.11",
          "# connections = 1<br>ppmi = 0.18",
          "# connections = 4<br>ppmi = 0.48",
          "# connections = 4<br>ppmi = 2.35",
          "# connections = 3<br>ppmi = 1.39",
          "# connections = 1<br>ppmi = 0.92",
          "# connections = 1<br>ppmi = 1.7",
          "# connections = 1<br>ppmi = 1.7",
          "# connections = 1<br>ppmi = 1.64"
         ],
         "type": "scatter",
         "x": [
          0.33233040170225536,
          0.4643400802227595,
          0.31375066611445945,
          0.3562493623258201,
          0.46584728131336023,
          -0.08050337233241617,
          0.4043736479606634,
          -0.15973063112451458,
          0.42904553917841554,
          -0.14905355850395394,
          0.4829010319588903,
          -0.3799705942223464,
          -0.08789132787007958,
          -0.18728094991571229,
          0.2609620110959421,
          -0.2265760273623388,
          0.41227971899748306,
          0.07262690446447724,
          -0.18378928152001425,
          0.16830830525749907,
          -0.06673129931930773,
          0.137689509980977,
          -0.4004166133533078,
          -0.3058926005847712,
          0.19462147075597544,
          -0.2273921181897168,
          -0.358414857514555,
          -0.22156917138408153,
          0.15886813149652404,
          0.2004122980985871,
          0.05578713969341633,
          0.0924306175592144,
          0.21758184127281055,
          0.22995222772415316,
          -0.24280206824862544,
          -0.3998978187929111,
          -0.049339598484646065,
          0.48009207112874763,
          0.013617224367050004,
          -0.2983128758607007,
          0.2441876962458185,
          -0.29723742043197376,
          0.25126451404775874,
          -0.28048551350303264,
          0.4227255004379544,
          -0.2421032652107074,
          0.4826072221599085,
          -0.03767107634873214,
          0.07554736778030206,
          0.21074879288251563,
          0.08606300708367622,
          0.3786894859343872,
          0.26278752230425334,
          0.018035686733824986,
          -0.10120985598985957,
          -0.04780954132643274,
          -0.011059054020495562,
          -0.334409139073474,
          -0.13392706056395598,
          -0.06440312072975335,
          -0.014901801344816227,
          -0.31502635844415156,
          -0.3478490359304866,
          -0.3227553631382857,
          -0.23732283049287628,
          0.017462982009524328,
          -0.158231544883574,
          -0.2621614403466759,
          -0.2223004048553421,
          0.27173401442603184,
          -0.39174081030321994,
          -0.12815202522251404,
          -0.32274123562232493,
          0.14578913194100462,
          0.1369854424200414,
          -0.12263153464872778,
          0.13567320660963558,
          0.16162894641009176,
          -0.14186468483260073
         ],
         "y": [
          0.27781943943501974,
          -0.1598481175111883,
          0.3992458977121846,
          0.15701732914475647,
          0.1546780762843826,
          -0.10663024996265355,
          0.2187740934840466,
          0.42293495301685485,
          -0.2458967912648606,
          0.4954060574219843,
          -0.07418544434646065,
          -0.17133277751373013,
          0.04714136155118434,
          0.05514024965840458,
          0.4411948302327859,
          -0.3642611565488659,
          0.07800262986432695,
          -0.1352857047935146,
          0.21608125124521177,
          -0.35306730688004107,
          -0.33320930373355595,
          0.11008703802449438,
          -0.0284311265180603,
          0.044116557638985865,
          0.460104672997961,
          -0.28611600437538254,
          0.10873681107986582,
          -0.028426048601245948,
          -0.20471425199436807,
          -0.13117509205739886,
          -0.22878692030519918,
          -0.33677446176725007,
          -0.2987776356439935,
          -0.007244646081233659,
          -0.11098590884648077,
          -0.099091635678428,
          0.5149279358525989,
          0.08639722704123545,
          0.46777078482044376,
          -0.19962406490167292,
          -0.23615763303211054,
          -0.30448349596412055,
          0.30044951250676905,
          0.3842352375336411,
          0.30221022767218303,
          0.4425885436415024,
          0.2290274995408729,
          -0.23555670595354802,
          0.17224421100180065,
          0.3624159559559768,
          -0.400898517631655,
          0.3665800544781306,
          -0.07989919433977252,
          -0.31468336177558903,
          0.23077101957244367,
          -0.40902352590107305,
          0.14229952652349295,
          0.3418030040129632,
          -0.2758757166086297,
          0.43183622891519047,
          0.22611377870162672,
          0.1678947987705264,
          -0.24687151240551766,
          -0.11028096579246632,
          0.17486735337886614,
          -0.3950639440128982,
          -0.35132610843823125,
          0.10219025747001001,
          -0.20229088834400555,
          -0.1686755378537493,
          0.042812017759173815,
          0.1456774882960637,
          -0.0280825364683441,
          0.4002282256519371,
          -0.2774993590897798,
          -0.4086744388405185,
          -0.06390187690903797,
          0.034247793792276195,
          -0.1785809664928289
         ]
        }
       ],
       "layout": {
        "hovermode": "closest",
        "margin": {
         "b": 20,
         "l": 20,
         "r": 20,
         "t": 20
        },
        "showlegend": false,
        "template": {
         "data": {
          "bar": [
           {
            "error_x": {
             "color": "#2a3f5f"
            },
            "error_y": {
             "color": "#2a3f5f"
            },
            "marker": {
             "line": {
              "color": "#E5ECF6",
              "width": 0.5
             }
            },
            "type": "bar"
           }
          ],
          "barpolar": [
           {
            "marker": {
             "line": {
              "color": "#E5ECF6",
              "width": 0.5
             }
            },
            "type": "barpolar"
           }
          ],
          "carpet": [
           {
            "aaxis": {
             "endlinecolor": "#2a3f5f",
             "gridcolor": "white",
             "linecolor": "white",
             "minorgridcolor": "white",
             "startlinecolor": "#2a3f5f"
            },
            "baxis": {
             "endlinecolor": "#2a3f5f",
             "gridcolor": "white",
             "linecolor": "white",
             "minorgridcolor": "white",
             "startlinecolor": "#2a3f5f"
            },
            "type": "carpet"
           }
          ],
          "choropleth": [
           {
            "colorbar": {
             "outlinewidth": 0,
             "ticks": ""
            },
            "type": "choropleth"
           }
          ],
          "contour": [
           {
            "colorbar": {
             "outlinewidth": 0,
             "ticks": ""
            },
            "colorscale": [
             [
              0,
              "#0d0887"
             ],
             [
              0.1111111111111111,
              "#46039f"
             ],
             [
              0.2222222222222222,
              "#7201a8"
             ],
             [
              0.3333333333333333,
              "#9c179e"
             ],
             [
              0.4444444444444444,
              "#bd3786"
             ],
             [
              0.5555555555555556,
              "#d8576b"
             ],
             [
              0.6666666666666666,
              "#ed7953"
             ],
             [
              0.7777777777777778,
              "#fb9f3a"
             ],
             [
              0.8888888888888888,
              "#fdca26"
             ],
             [
              1,
              "#f0f921"
             ]
            ],
            "type": "contour"
           }
          ],
          "contourcarpet": [
           {
            "colorbar": {
             "outlinewidth": 0,
             "ticks": ""
            },
            "type": "contourcarpet"
           }
          ],
          "heatmap": [
           {
            "colorbar": {
             "outlinewidth": 0,
             "ticks": ""
            },
            "colorscale": [
             [
              0,
              "#0d0887"
             ],
             [
              0.1111111111111111,
              "#46039f"
             ],
             [
              0.2222222222222222,
              "#7201a8"
             ],
             [
              0.3333333333333333,
              "#9c179e"
             ],
             [
              0.4444444444444444,
              "#bd3786"
             ],
             [
              0.5555555555555556,
              "#d8576b"
             ],
             [
              0.6666666666666666,
              "#ed7953"
             ],
             [
              0.7777777777777778,
              "#fb9f3a"
             ],
             [
              0.8888888888888888,
              "#fdca26"
             ],
             [
              1,
              "#f0f921"
             ]
            ],
            "type": "heatmap"
           }
          ],
          "heatmapgl": [
           {
            "colorbar": {
             "outlinewidth": 0,
             "ticks": ""
            },
            "colorscale": [
             [
              0,
              "#0d0887"
             ],
             [
              0.1111111111111111,
              "#46039f"
             ],
             [
              0.2222222222222222,
              "#7201a8"
             ],
             [
              0.3333333333333333,
              "#9c179e"
             ],
             [
              0.4444444444444444,
              "#bd3786"
             ],
             [
              0.5555555555555556,
              "#d8576b"
             ],
             [
              0.6666666666666666,
              "#ed7953"
             ],
             [
              0.7777777777777778,
              "#fb9f3a"
             ],
             [
              0.8888888888888888,
              "#fdca26"
             ],
             [
              1,
              "#f0f921"
             ]
            ],
            "type": "heatmapgl"
           }
          ],
          "histogram": [
           {
            "marker": {
             "colorbar": {
              "outlinewidth": 0,
              "ticks": ""
             }
            },
            "type": "histogram"
           }
          ],
          "histogram2d": [
           {
            "colorbar": {
             "outlinewidth": 0,
             "ticks": ""
            },
            "colorscale": [
             [
              0,
              "#0d0887"
             ],
             [
              0.1111111111111111,
              "#46039f"
             ],
             [
              0.2222222222222222,
              "#7201a8"
             ],
             [
              0.3333333333333333,
              "#9c179e"
             ],
             [
              0.4444444444444444,
              "#bd3786"
             ],
             [
              0.5555555555555556,
              "#d8576b"
             ],
             [
              0.6666666666666666,
              "#ed7953"
             ],
             [
              0.7777777777777778,
              "#fb9f3a"
             ],
             [
              0.8888888888888888,
              "#fdca26"
             ],
             [
              1,
              "#f0f921"
             ]
            ],
            "type": "histogram2d"
           }
          ],
          "histogram2dcontour": [
           {
            "colorbar": {
             "outlinewidth": 0,
             "ticks": ""
            },
            "colorscale": [
             [
              0,
              "#0d0887"
             ],
             [
              0.1111111111111111,
              "#46039f"
             ],
             [
              0.2222222222222222,
              "#7201a8"
             ],
             [
              0.3333333333333333,
              "#9c179e"
             ],
             [
              0.4444444444444444,
              "#bd3786"
             ],
             [
              0.5555555555555556,
              "#d8576b"
             ],
             [
              0.6666666666666666,
              "#ed7953"
             ],
             [
              0.7777777777777778,
              "#fb9f3a"
             ],
             [
              0.8888888888888888,
              "#fdca26"
             ],
             [
              1,
              "#f0f921"
             ]
            ],
            "type": "histogram2dcontour"
           }
          ],
          "mesh3d": [
           {
            "colorbar": {
             "outlinewidth": 0,
             "ticks": ""
            },
            "type": "mesh3d"
           }
          ],
          "parcoords": [
           {
            "line": {
             "colorbar": {
              "outlinewidth": 0,
              "ticks": ""
             }
            },
            "type": "parcoords"
           }
          ],
          "pie": [
           {
            "automargin": true,
            "type": "pie"
           }
          ],
          "scatter": [
           {
            "marker": {
             "colorbar": {
              "outlinewidth": 0,
              "ticks": ""
             }
            },
            "type": "scatter"
           }
          ],
          "scatter3d": [
           {
            "line": {
             "colorbar": {
              "outlinewidth": 0,
              "ticks": ""
             }
            },
            "marker": {
             "colorbar": {
              "outlinewidth": 0,
              "ticks": ""
             }
            },
            "type": "scatter3d"
           }
          ],
          "scattercarpet": [
           {
            "marker": {
             "colorbar": {
              "outlinewidth": 0,
              "ticks": ""
             }
            },
            "type": "scattercarpet"
           }
          ],
          "scattergeo": [
           {
            "marker": {
             "colorbar": {
              "outlinewidth": 0,
              "ticks": ""
             }
            },
            "type": "scattergeo"
           }
          ],
          "scattergl": [
           {
            "marker": {
             "colorbar": {
              "outlinewidth": 0,
              "ticks": ""
             }
            },
            "type": "scattergl"
           }
          ],
          "scattermapbox": [
           {
            "marker": {
             "colorbar": {
              "outlinewidth": 0,
              "ticks": ""
             }
            },
            "type": "scattermapbox"
           }
          ],
          "scatterpolar": [
           {
            "marker": {
             "colorbar": {
              "outlinewidth": 0,
              "ticks": ""
             }
            },
            "type": "scatterpolar"
           }
          ],
          "scatterpolargl": [
           {
            "marker": {
             "colorbar": {
              "outlinewidth": 0,
              "ticks": ""
             }
            },
            "type": "scatterpolargl"
           }
          ],
          "scatterternary": [
           {
            "marker": {
             "colorbar": {
              "outlinewidth": 0,
              "ticks": ""
             }
            },
            "type": "scatterternary"
           }
          ],
          "surface": [
           {
            "colorbar": {
             "outlinewidth": 0,
             "ticks": ""
            },
            "colorscale": [
             [
              0,
              "#0d0887"
             ],
             [
              0.1111111111111111,
              "#46039f"
             ],
             [
              0.2222222222222222,
              "#7201a8"
             ],
             [
              0.3333333333333333,
              "#9c179e"
             ],
             [
              0.4444444444444444,
              "#bd3786"
             ],
             [
              0.5555555555555556,
              "#d8576b"
             ],
             [
              0.6666666666666666,
              "#ed7953"
             ],
             [
              0.7777777777777778,
              "#fb9f3a"
             ],
             [
              0.8888888888888888,
              "#fdca26"
             ],
             [
              1,
              "#f0f921"
             ]
            ],
            "type": "surface"
           }
          ],
          "table": [
           {
            "cells": {
             "fill": {
              "color": "#EBF0F8"
             },
             "line": {
              "color": "white"
             }
            },
            "header": {
             "fill": {
              "color": "#C8D4E3"
             },
             "line": {
              "color": "white"
             }
            },
            "type": "table"
           }
          ]
         },
         "layout": {
          "annotationdefaults": {
           "arrowcolor": "#2a3f5f",
           "arrowhead": 0,
           "arrowwidth": 1
          },
          "autotypenumbers": "strict",
          "coloraxis": {
           "colorbar": {
            "outlinewidth": 0,
            "ticks": ""
           }
          },
          "colorscale": {
           "diverging": [
            [
             0,
             "#8e0152"
            ],
            [
             0.1,
             "#c51b7d"
            ],
            [
             0.2,
             "#de77ae"
            ],
            [
             0.3,
             "#f1b6da"
            ],
            [
             0.4,
             "#fde0ef"
            ],
            [
             0.5,
             "#f7f7f7"
            ],
            [
             0.6,
             "#e6f5d0"
            ],
            [
             0.7,
             "#b8e186"
            ],
            [
             0.8,
             "#7fbc41"
            ],
            [
             0.9,
             "#4d9221"
            ],
            [
             1,
             "#276419"
            ]
           ],
           "sequential": [
            [
             0,
             "#0d0887"
            ],
            [
             0.1111111111111111,
             "#46039f"
            ],
            [
             0.2222222222222222,
             "#7201a8"
            ],
            [
             0.3333333333333333,
             "#9c179e"
            ],
            [
             0.4444444444444444,
             "#bd3786"
            ],
            [
             0.5555555555555556,
             "#d8576b"
            ],
            [
             0.6666666666666666,
             "#ed7953"
            ],
            [
             0.7777777777777778,
             "#fb9f3a"
            ],
            [
             0.8888888888888888,
             "#fdca26"
            ],
            [
             1,
             "#f0f921"
            ]
           ],
           "sequentialminus": [
            [
             0,
             "#0d0887"
            ],
            [
             0.1111111111111111,
             "#46039f"
            ],
            [
             0.2222222222222222,
             "#7201a8"
            ],
            [
             0.3333333333333333,
             "#9c179e"
            ],
            [
             0.4444444444444444,
             "#bd3786"
            ],
            [
             0.5555555555555556,
             "#d8576b"
            ],
            [
             0.6666666666666666,
             "#ed7953"
            ],
            [
             0.7777777777777778,
             "#fb9f3a"
            ],
            [
             0.8888888888888888,
             "#fdca26"
            ],
            [
             1,
             "#f0f921"
            ]
           ]
          },
          "colorway": [
           "#636efa",
           "#EF553B",
           "#00cc96",
           "#ab63fa",
           "#FFA15A",
           "#19d3f3",
           "#FF6692",
           "#B6E880",
           "#FF97FF",
           "#FECB52"
          ],
          "font": {
           "color": "#2a3f5f"
          },
          "geo": {
           "bgcolor": "white",
           "lakecolor": "white",
           "landcolor": "#E5ECF6",
           "showlakes": true,
           "showland": true,
           "subunitcolor": "white"
          },
          "hoverlabel": {
           "align": "left"
          },
          "hovermode": "closest",
          "mapbox": {
           "style": "light"
          },
          "paper_bgcolor": "white",
          "plot_bgcolor": "#E5ECF6",
          "polar": {
           "angularaxis": {
            "gridcolor": "white",
            "linecolor": "white",
            "ticks": ""
           },
           "bgcolor": "#E5ECF6",
           "radialaxis": {
            "gridcolor": "white",
            "linecolor": "white",
            "ticks": ""
           }
          },
          "scene": {
           "xaxis": {
            "backgroundcolor": "#E5ECF6",
            "gridcolor": "white",
            "gridwidth": 2,
            "linecolor": "white",
            "showbackground": true,
            "ticks": "",
            "zerolinecolor": "white"
           },
           "yaxis": {
            "backgroundcolor": "#E5ECF6",
            "gridcolor": "white",
            "gridwidth": 2,
            "linecolor": "white",
            "showbackground": true,
            "ticks": "",
            "zerolinecolor": "white"
           },
           "zaxis": {
            "backgroundcolor": "#E5ECF6",
            "gridcolor": "white",
            "gridwidth": 2,
            "linecolor": "white",
            "showbackground": true,
            "ticks": "",
            "zerolinecolor": "white"
           }
          },
          "shapedefaults": {
           "line": {
            "color": "#2a3f5f"
           }
          },
          "ternary": {
           "aaxis": {
            "gridcolor": "white",
            "linecolor": "white",
            "ticks": ""
           },
           "baxis": {
            "gridcolor": "white",
            "linecolor": "white",
            "ticks": ""
           },
           "bgcolor": "#E5ECF6",
           "caxis": {
            "gridcolor": "white",
            "linecolor": "white",
            "ticks": ""
           }
          },
          "title": {
           "x": 0.05
          },
          "xaxis": {
           "automargin": true,
           "gridcolor": "white",
           "linecolor": "white",
           "ticks": "",
           "title": {
            "standoff": 15
           },
           "zerolinecolor": "white",
           "zerolinewidth": 2
          },
          "yaxis": {
           "automargin": true,
           "gridcolor": "white",
           "linecolor": "white",
           "ticks": "",
           "title": {
            "standoff": 15
           },
           "zerolinecolor": "white",
           "zerolinewidth": 2
          }
         }
        },
        "title": {
         "font": {
          "size": 16
         }
        },
        "xaxis": {
         "showgrid": false,
         "showticklabels": false,
         "zeroline": false
        },
        "yaxis": {
         "showgrid": false,
         "showticklabels": false,
         "zeroline": false
        }
       }
      }
     },
     "metadata": {},
     "output_type": "display_data"
    }
   ],
   "source": [
    "fig = go.Figure(\n",
    "   layout=go.Layout(\n",
    "      titlefont_size=16,\n",
    "      showlegend=False,\n",
    "      hovermode='closest',\n",
    "      margin=dict(b=20,l=20,r=20,t=20),\n",
    "      xaxis=dict(showgrid=False, zeroline=False, showticklabels=False),\n",
    "      yaxis=dict(showgrid=False, zeroline=False, showticklabels=False)\n",
    "   )\n",
    ")\n",
    "\n",
    "for trace in edge_traces:\n",
    "   fig.add_trace(trace)\n",
    "fig.add_trace(node_trace)\n",
    "fig.add_trace(edge_midpoint_trace)\n",
    "\n",
    "fig.show()"
   ]
  },
  {
   "cell_type": "code",
   "execution_count": null,
   "metadata": {},
   "outputs": [],
   "source": []
  }
 ],
 "metadata": {
  "interpreter": {
   "hash": "6bf94d4e6043ac9678e93b7090d1604399346ea21a1bbca353cfc57a8a03a7b1"
  },
  "kernelspec": {
   "display_name": "Python 3.8.8 64-bit",
   "name": "python3"
  },
  "language_info": {
   "name": "python",
   "version": ""
  },
  "metadata": {
   "interpreter": {
    "hash": "6bf94d4e6043ac9678e93b7090d1604399346ea21a1bbca353cfc57a8a03a7b1"
   }
  },
  "orig_nbformat": 2
 },
 "nbformat": 4,
 "nbformat_minor": 2
}