{
 "metadata": {
  "language_info": {
   "codemirror_mode": {
    "name": "ipython",
    "version": 3
   },
   "file_extension": ".py",
   "mimetype": "text/x-python",
   "name": "python",
   "nbconvert_exporter": "python",
   "pygments_lexer": "ipython3",
   "version": "3.8.8-final"
  },
  "orig_nbformat": 2,
  "kernelspec": {
   "name": "python3",
   "display_name": "Python 3.8.8 64-bit ('wre': conda)",
   "metadata": {
    "interpreter": {
     "hash": "6bf94d4e6043ac9678e93b7090d1604399346ea21a1bbca353cfc57a8a03a7b1"
    }
   }
  }
 },
 "nbformat": 4,
 "nbformat_minor": 2,
 "cells": [
  {
   "cell_type": "code",
   "execution_count": null,
   "metadata": {},
   "outputs": [],
   "source": [
    "import pandas as pd\n",
    "import networkx as nx\n",
    "import plotly.graph_objects as go"
   ]
  },
  {
   "source": [
    "### Prep data"
   ],
   "cell_type": "markdown",
   "metadata": {}
  },
  {
   "cell_type": "code",
   "execution_count": null,
   "metadata": {},
   "outputs": [],
   "source": [
    "def load_data():\n",
    "    remedy_edges = pd.read_parquet(\"data/remedy_edges.parquet\")\n",
    "    source_nodes = pd.read_parquet(\"data/source_nodes.parquet\")\n",
    "    target_nodes = pd.read_parquet(\"data/target_nodes.parquet\")\n",
    "\n",
    "    unique_remedies = source_nodes.id.unique().tolist()\n",
    "    unique_effects = target_nodes.id.unique().tolist()\n",
    "\n",
    "    nodes = source_nodes.append(target_nodes).drop_duplicates()\n",
    "\n",
    "    return unique_remedies, unique_effects, nodes, remedy_edges\n",
    "\n",
    "\n",
    "def filter_on_node(\n",
    "    filter_node: str,\n",
    "    filter_type: str,\n",
    "    nodes: pd.DataFrame,\n",
    "    edges: pd.DataFrame,\n",
    "):\n",
    "    if filter_type == \"Remedy\":\n",
    "        filtered_edges = edges[edges[\"from\"].eq(filter_node)]\n",
    "        filtered_nodes = nodes[\n",
    "            nodes[\"id\"].eq(filter_node) | nodes[\"id\"].isin(filtered_edges[\"to\"])\n",
    "        ]\n",
    "    elif filter_type == \"Effect\":\n",
    "        filtered_edges = edges[edges[\"to\"].eq(filter_node)]\n",
    "        filtered_nodes = nodes[\n",
    "            nodes[\"id\"].eq(filter_node) | nodes[\"id\"].isin(filtered_edges[\"from\"])\n",
    "        ]\n",
    "    else:\n",
    "        raise ValueError(\"Invalid filter type. Try 'Remedy' or 'Effect'.\")\n",
    "    return filtered_nodes, filtered_edges\n",
    "\n",
    "\n",
    "def filter_on_edge_weights(\n",
    "    ppmi_range: tuple,\n",
    "    edge_count_range: tuple,\n",
    "    nodes: pd.DataFrame,\n",
    "    edges: pd.DataFrame,\n",
    "):\n",
    "    filtered_edges = edges[edges[\"ppmi\"].between(ppmi_range[0], ppmi_range[1])]\n",
    "    filtered_edges = filtered_edges[\n",
    "        filtered_edges[\"edge_count\"].between(edge_count_range[0], edge_count_range[1])\n",
    "    ]\n",
    "    filtered_nodes = nodes[\n",
    "        nodes[\"id\"].isin(filtered_edges[\"from\"])\n",
    "        | nodes[\"id\"].isin(filtered_edges[\"to\"])\n",
    "    ]\n",
    "    return filtered_nodes, filtered_edges\n"
   ]
  },
  {
   "cell_type": "code",
   "execution_count": null,
   "metadata": {},
   "outputs": [],
   "source": [
    "unique_remedies, unique_effects, nodes, remedy_edges = load_data()"
   ]
  },
  {
   "cell_type": "code",
   "execution_count": null,
   "metadata": {},
   "outputs": [],
   "source": [
    "filtered_nodes, filtered_edges = filter_on_node(\"black cohosh\", \"Remedy\", nodes, remedy_edges)"
   ]
  },
  {
   "source": [
    "### Make graph"
   ],
   "cell_type": "markdown",
   "metadata": {}
  },
  {
   "cell_type": "code",
   "execution_count": null,
   "metadata": {},
   "outputs": [],
   "source": [
    "G = nx.from_pandas_edgelist(\n",
    "    filtered_edges,\n",
    "    source='from',\n",
    "    target='to',\n",
    "    edge_attr=True,\n",
    ")"
   ]
  },
  {
   "cell_type": "code",
   "execution_count": null,
   "metadata": {},
   "outputs": [],
   "source": [
    "for col in ['block_level_0', 'count', 'label', 'remedy_type', 'count_log']:\n",
    "    print(col)\n",
    "    nx.set_node_attributes(G, pd.Series(filtered_nodes[col].values, index=filtered_nodes['id']).to_dict(), name=col)"
   ]
  },
  {
   "cell_type": "code",
   "execution_count": null,
   "metadata": {},
   "outputs": [],
   "source": [
    "pos = nx.drawing.layout.spring_layout(G)\n",
    "nx.set_node_attributes(G, pos, name='pos')"
   ]
  },
  {
   "source": [
    "### Create edge trace and node trace"
   ],
   "cell_type": "markdown",
   "metadata": {}
  },
  {
   "cell_type": "code",
   "execution_count": null,
   "metadata": {},
   "outputs": [],
   "source": [
    "edge_traces = []\n",
    "edge_midpoint_x = []\n",
    "edge_midpoint_y = []\n",
    "edge_midpoint_text = []\n",
    "\n",
    "for edge in G.edges():\n",
    "    x0, y0 = G.nodes[edge[0]]['pos']\n",
    "    x1, y1 = G.nodes[edge[1]]['pos']\n",
    "    ppmi = G.edges[edge]['ppmi']\n",
    "    edge_count = G.edges[edge]['edge_count']\n",
    "    trace = go.Scatter(\n",
    "        x=[x0, x1, None],\n",
    "        y=[y0, y1, None],\n",
    "        line=dict(width = ppmi / 2, color = 'gray'),\n",
    "        mode='lines',\n",
    "    )\n",
    "    edge_traces.append(trace)\n",
    "\n",
    "    edge_midpoint_x.append((x0 + x1) / 2)\n",
    "    edge_midpoint_y.append((y0 + y1) / 2)\n",
    "    edge_midpoint_text.append(f'# connections = {edge_count}<br>ppmi = {round(ppmi, 2)}')\n",
    "\n",
    "edge_midpoint_trace = go.Scatter(\n",
    "    x=edge_midpoint_x, \n",
    "    y=edge_midpoint_y,\n",
    "    mode='markers',\n",
    "    text=edge_midpoint_text,\n",
    "    hoverinfo='text',\n",
    "    marker=dict(\n",
    "        color='grey',\n",
    "        opacity=0,\n",
    "        size=50\n",
    "    )\n",
    ")\n"
   ]
  },
  {
   "cell_type": "code",
   "execution_count": null,
   "metadata": {},
   "outputs": [],
   "source": [
    "node_x = []\n",
    "node_y = []\n",
    "node_color = []\n",
    "node_size = []\n",
    "node_text = []\n",
    "\n",
    "for node in G.nodes():\n",
    "    x, y = G.nodes[node]['pos']\n",
    "    node_x.append(x)\n",
    "    node_y.append(y)\n",
    "    if G.nodes[node]['label'] == 'EFFECT':\n",
    "        node_color.append('coral')\n",
    "    elif G.nodes[node]['remedy_type'] == 'Remedy':\n",
    "        node_color.append('cornflowerblue')\n",
    "    else:\n",
    "        node_color.append('lightgreen')\n",
    "    node_size.append(G.nodes[node]['count_log'] * 5)\n",
    "    node_text.append(f\"{node}<br>count = {G.nodes[node]['count']}\")\n",
    "\n",
    "node_trace = go.Scatter(\n",
    "    x=node_x, \n",
    "    y=node_y,\n",
    "    mode='markers',\n",
    "    text=node_text,\n",
    "    hoverinfo='text',\n",
    "    marker=dict(\n",
    "        color=node_color,\n",
    "        size=node_size,\n",
    "        line_width=2,\n",
    "        opacity=1\n",
    "    )\n",
    ")"
   ]
  },
  {
   "cell_type": "code",
   "execution_count": null,
   "metadata": {},
   "outputs": [],
   "source": [
    "fig = go.Figure(\n",
    "   layout=go.Layout(\n",
    "      titlefont_size=16,\n",
    "      showlegend=False,\n",
    "      hovermode='closest',\n",
    "      margin=dict(b=20,l=20,r=20,t=20),\n",
    "      xaxis=dict(showgrid=False, zeroline=False, showticklabels=False),\n",
    "      yaxis=dict(showgrid=False, zeroline=False, showticklabels=False)\n",
    "   )\n",
    ")\n",
    "\n",
    "for trace in edge_traces:\n",
    "   fig.add_trace(trace)\n",
    "fig.add_trace(node_trace)\n",
    "fig.add_trace(edge_midpoint_trace)\n",
    "\n",
    "fig.show()"
   ]
  },
  {
   "cell_type": "code",
   "execution_count": null,
   "metadata": {},
   "outputs": [],
   "source": []
  }
 ]
}