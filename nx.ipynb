{
 "metadata": {
  "language_info": {
   "codemirror_mode": {
    "name": "ipython",
    "version": 3
   },
   "file_extension": ".py",
   "mimetype": "text/x-python",
   "name": "python",
   "nbconvert_exporter": "python",
   "pygments_lexer": "ipython3",
   "version": "3.8.8-final"
  },
  "orig_nbformat": 2,
  "kernelspec": {
   "name": "python3",
   "display_name": "Python 3.8.8 64-bit ('wre': conda)",
   "metadata": {
    "interpreter": {
     "hash": "6bf94d4e6043ac9678e93b7090d1604399346ea21a1bbca353cfc57a8a03a7b1"
    }
   }
  }
 },
 "nbformat": 4,
 "nbformat_minor": 2,
 "cells": [
  {
   "cell_type": "code",
   "execution_count": 1,
   "metadata": {},
   "outputs": [],
   "source": [
    "import pandas as pd\n",
    "import networkx as nx\n",
    "import plotly.graph_objects as go"
   ]
  },
  {
   "source": [
    "### Prep data"
   ],
   "cell_type": "markdown",
   "metadata": {}
  },
  {
   "cell_type": "code",
   "execution_count": 2,
   "metadata": {},
   "outputs": [],
   "source": [
    "def load_data():\n",
    "    remedy_edges = pd.read_parquet(\"data/remedy_edges.parquet\")\n",
    "    source_nodes = pd.read_parquet(\"data/source_nodes.parquet\")\n",
    "    target_nodes = pd.read_parquet(\"data/target_nodes.parquet\")\n",
    "\n",
    "    unique_remedies = source_nodes.id.unique().tolist()\n",
    "    unique_effects = target_nodes.id.unique().tolist()\n",
    "\n",
    "    nodes = source_nodes.append(target_nodes).drop_duplicates()\n",
    "\n",
    "    return unique_remedies, unique_effects, nodes, remedy_edges\n",
    "\n",
    "\n",
    "def filter_on_node(\n",
    "    filter_node: str,\n",
    "    filter_type: str,\n",
    "    nodes: pd.DataFrame,\n",
    "    edges: pd.DataFrame,\n",
    "):\n",
    "    if filter_type == \"Remedy\":\n",
    "        filtered_edges = edges[edges[\"from\"].eq(filter_node)]\n",
    "        filtered_nodes = nodes[\n",
    "            nodes[\"id\"].eq(filter_node) | nodes[\"id\"].isin(filtered_edges[\"to\"])\n",
    "        ]\n",
    "    elif filter_type == \"Effect\":\n",
    "        filtered_edges = edges[edges[\"to\"].eq(filter_node)]\n",
    "        filtered_nodes = nodes[\n",
    "            nodes[\"id\"].eq(filter_node) | nodes[\"id\"].isin(filtered_edges[\"from\"])\n",
    "        ]\n",
    "    else:\n",
    "        raise ValueError(\"Invalid filter type. Try 'Remedy' or 'Effect'.\")\n",
    "    return filtered_nodes, filtered_edges\n",
    "\n",
    "\n",
    "def filter_on_edge_weights(\n",
    "    ppmi_range: tuple,\n",
    "    edge_count_range: tuple,\n",
    "    nodes: pd.DataFrame,\n",
    "    edges: pd.DataFrame,\n",
    "):\n",
    "    filtered_edges = edges[edges[\"ppmi\"].between(ppmi_range[0], ppmi_range[1])]\n",
    "    filtered_edges = filtered_edges[\n",
    "        filtered_edges[\"edge_count\"].between(edge_count_range[0], edge_count_range[1])\n",
    "    ]\n",
    "    filtered_nodes = nodes[\n",
    "        nodes[\"id\"].isin(filtered_edges[\"from\"])\n",
    "        | nodes[\"id\"].isin(filtered_edges[\"to\"])\n",
    "    ]\n",
    "    return filtered_nodes, filtered_edges\n"
   ]
  },
  {
   "cell_type": "code",
   "execution_count": 3,
   "metadata": {},
   "outputs": [],
   "source": [
    "unique_remedies, unique_effects, nodes, remedy_edges = load_data()"
   ]
  },
  {
   "cell_type": "code",
   "execution_count": 4,
   "metadata": {},
   "outputs": [],
   "source": [
    "filtered_nodes, filtered_edges = filter_on_node(\"black cohosh\", \"Remedy\", nodes, remedy_edges)"
   ]
  },
  {
   "source": [
    "### Make graph"
   ],
   "cell_type": "markdown",
   "metadata": {}
  },
  {
   "cell_type": "code",
   "execution_count": 5,
   "metadata": {},
   "outputs": [],
   "source": [
    "G = nx.from_pandas_edgelist(\n",
    "    filtered_edges,\n",
    "    source='from',\n",
    "    target='to',\n",
    "    edge_attr=True,\n",
    ")"
   ]
  },
  {
   "cell_type": "code",
   "execution_count": 6,
   "metadata": {},
   "outputs": [
    {
     "output_type": "execute_result",
     "data": {
      "text/plain": [
       "{'black cohosh': 52,\n",
       " 'gooseflesh': 68,\n",
       " 'the shits': 68,\n",
       " 'night sweats': 45,\n",
       " 'sweats': 30,\n",
       " 'sleep': 14,\n",
       " 'nausea': 20,\n",
       " 'muscle spasms': 48,\n",
       " 'goosebumps': 45,\n",
       " 'sweating': 30,\n",
       " 'rls': 20,\n",
       " 'insomnia': 20,\n",
       " 'stress': 8,\n",
       " 'chills': 30,\n",
       " 'anxiety': 8}"
      ]
     },
     "metadata": {},
     "execution_count": 6
    }
   ],
   "source": [
    "pd.Series(filtered_nodes['block_level_0'].values, index=filtered_nodes['id']).to_dict()"
   ]
  },
  {
   "cell_type": "code",
   "execution_count": 7,
   "metadata": {},
   "outputs": [
    {
     "output_type": "stream",
     "name": "stdout",
     "text": [
      "block_level_0\ncount\nlabel\nremedy_type\ncount_log\n"
     ]
    }
   ],
   "source": [
    "for col in ['block_level_0', 'count', 'label', 'remedy_type', 'count_log']:\n",
    "    print(col)\n",
    "    nx.set_node_attributes(G, pd.Series(filtered_nodes[col].values, index=filtered_nodes['id']).to_dict(), name=col)"
   ]
  },
  {
   "cell_type": "code",
   "execution_count": 8,
   "metadata": {},
   "outputs": [],
   "source": [
    "pos = nx.drawing.layout.spring_layout(G)\n",
    "nx.set_node_attributes(G, pos, name='pos')"
   ]
  },
  {
   "source": [
    "### Create edge trace and node trace"
   ],
   "cell_type": "markdown",
   "metadata": {}
  },
  {
   "cell_type": "code",
   "execution_count": 73,
   "metadata": {},
   "outputs": [],
   "source": [
    "edge_traces = []\n",
    "edge_midpoint_x = []\n",
    "edge_midpoint_y = []\n",
    "edge_midpoint_text = []\n",
    "\n",
    "for edge in G.edges():\n",
    "    x0, y0 = G.nodes[edge[0]]['pos']\n",
    "    x1, y1 = G.nodes[edge[1]]['pos']\n",
    "    ppmi = G.edges[edge]['ppmi']\n",
    "    edge_count = G.edges[edge]['edge_count']\n",
    "    trace = go.Scatter(\n",
    "        x=[x0, x1, None],\n",
    "        y=[y0, y1, None],\n",
    "        line=dict(width = ppmi / 2, color = 'gray'),\n",
    "        mode='lines',\n",
    "    )\n",
    "    edge_traces.append(trace)\n",
    "\n",
    "    edge_midpoint_x.append((x0 + x1) / 2)\n",
    "    edge_midpoint_y.append((y0 + y1) / 2)\n",
    "    edge_midpoint_text.append(f'# connections = {edge_count}<br>ppmi = {round(ppmi, 2)}')\n",
    "\n",
    "edge_midpoint_trace = go.Scatter(\n",
    "    x=edge_midpoint_x, \n",
    "    y=edge_midpoint_y,\n",
    "    mode='markers',\n",
    "    text=edge_midpoint_text,\n",
    "    hoverinfo='text',\n",
    "    marker=dict(\n",
    "        color='grey',\n",
    "        opacity=0,\n",
    "        size=50\n",
    "    )\n",
    ")\n"
   ]
  },
  {
   "cell_type": "code",
   "execution_count": 74,
   "metadata": {},
   "outputs": [],
   "source": [
    "node_x = []\n",
    "node_y = []\n",
    "node_color = []\n",
    "node_size = []\n",
    "node_text = []\n",
    "\n",
    "for node in G.nodes():\n",
    "    x, y = G.nodes[node]['pos']\n",
    "    node_x.append(x)\n",
    "    node_y.append(y)\n",
    "    if G.nodes[node]['label'] == 'EFFECT':\n",
    "        node_color.append('coral')\n",
    "    elif G.nodes[node]['remedy_type'] == 'Remedy':\n",
    "        node_color.append('cornflowerblue')\n",
    "    else:\n",
    "        node_color.append('lightgreen')\n",
    "    node_size.append(G.nodes[node]['count_log'] * 5)\n",
    "    node_text.append(f\"{node}<br>count = {G.nodes[node]['count']}\")\n",
    "\n",
    "node_trace = go.Scatter(\n",
    "    x=node_x, \n",
    "    y=node_y,\n",
    "    mode='markers',\n",
    "    text=node_text,\n",
    "    hoverinfo='text',\n",
    "    marker=dict(\n",
    "        color=node_color,\n",
    "        size=node_size,\n",
    "        line_width=2,\n",
    "        opacity=1\n",
    "    )\n",
    ")"
   ]
  },
  {
   "cell_type": "code",
   "execution_count": 78,
   "metadata": {},
   "outputs": [
    {
     "output_type": "display_data",
     "data": {
      "application/vnd.plotly.v1+json": {
       "config": {
        "plotlyServerURL": "https://plot.ly"
       },
       "data": [
        {
         "line": {
          "color": "gray",
          "width": 5.005410170034535
         },
         "mode": "lines",
         "type": "scatter",
         "x": [
          0.0006874362516729886,
          0.37129902345073906,
          null
         ],
         "y": [
          -0.0049059803897783215,
          0.9437032961967199,
          null
         ]
        },
        {
         "line": {
          "color": "gray",
          "width": 4.225431242449171
         },
         "mode": "lines",
         "type": "scatter",
         "x": [
          0.0006874362516729886,
          -0.7493350183391055,
          null
         ],
         "y": [
          -0.0049059803897783215,
          -0.6869773222199305,
          null
         ]
        },
        {
         "line": {
          "color": "gray",
          "width": 3.77458527622267
         },
         "mode": "lines",
         "type": "scatter",
         "x": [
          0.0006874362516729886,
          -0.2927380239929721,
          null
         ],
         "y": [
          -0.0049059803897783215,
          -0.8442693849242986,
          null
         ]
        },
        {
         "line": {
          "color": "gray",
          "width": 3.2552567334236286
         },
         "mode": "lines",
         "type": "scatter",
         "x": [
          0.0006874362516729886,
          0.9433571476118452,
          null
         ],
         "y": [
          -0.0049059803897783215,
          -0.03736270320344145,
          null
         ]
        },
        {
         "line": {
          "color": "gray",
          "width": 3.205810198025405
         },
         "mode": "lines",
         "type": "scatter",
         "x": [
          0.0006874362516729886,
          0.5434472553621734,
          null
         ],
         "y": [
          -0.0049059803897783215,
          -0.792750576966758,
          null
         ]
        },
        {
         "line": {
          "color": "gray",
          "width": 2.9921189399738957
         },
         "mode": "lines",
         "type": "scatter",
         "x": [
          0.0006874362516729886,
          -1,
          null
         ],
         "y": [
          -0.0049059803897783215,
          -0.0034960689117293645,
          null
         ]
        },
        {
         "line": {
          "color": "gray",
          "width": 2.511868034522611
         },
         "mode": "lines",
         "type": "scatter",
         "x": [
          0.0006874362516729886,
          0.12725662576028687,
          null
         ],
         "y": [
          -0.0049059803897783215,
          -0.9349222232553093,
          null
         ]
        },
        {
         "line": {
          "color": "gray",
          "width": 2.1730327468799744
         },
         "mode": "lines",
         "type": "scatter",
         "x": [
          0.0006874362516729886,
          0.7837235759420033,
          null
         ],
         "y": [
          -0.0049059803897783215,
          -0.4404600664860532,
          null
         ]
        },
        {
         "line": {
          "color": "gray",
          "width": 2.1128083988846074
         },
         "mode": "lines",
         "type": "scatter",
         "x": [
          0.0006874362516729886,
          -0.8077286595544074,
          null
         ],
         "y": [
          -0.0049059803897783215,
          0.440158612740372,
          null
         ]
        },
        {
         "line": {
          "color": "gray",
          "width": 2.0625018531177477
         },
         "mode": "lines",
         "type": "scatter",
         "x": [
          0.0006874362516729886,
          -0.1084318097647232,
          null
         ],
         "y": [
          -0.0049059803897783215,
          0.869137142483845,
          null
         ]
        },
        {
         "line": {
          "color": "gray",
          "width": 2.027335175987046
         },
         "mode": "lines",
         "type": "scatter",
         "x": [
          0.0006874362516729886,
          0.8958829249949136,
          null
         ],
         "y": [
          -0.0049059803897783215,
          0.44919107342937076,
          null
         ]
        },
        {
         "line": {
          "color": "gray",
          "width": 1.4183121182283416
         },
         "mode": "lines",
         "type": "scatter",
         "x": [
          0.0006874362516729886,
          0.45497307078249943,
          null
         ],
         "y": [
          -0.0049059803897783215,
          0.4891759414758488,
          null
         ]
        },
        {
         "line": {
          "color": "gray",
          "width": 1.2735011879907594
         },
         "mode": "lines",
         "type": "scatter",
         "x": [
          0.0006874362516729886,
          -0.539943594776984,
          null
         ],
         "y": [
          -0.0049059803897783215,
          0.8036110050770569,
          null
         ]
        },
        {
         "line": {
          "color": "gray",
          "width": 1.151871089990645
         },
         "mode": "lines",
         "type": "scatter",
         "x": [
          0.0006874362516729886,
          -0.6224499537279456,
          null
         ],
         "y": [
          -0.0049059803897783215,
          -0.24983274504591654,
          null
         ]
        },
        {
         "hoverinfo": "text",
         "marker": {
          "color": [
           "cornflowerblue",
           "coral",
           "coral",
           "coral",
           "coral",
           "coral",
           "coral",
           "coral",
           "coral",
           "coral",
           "coral",
           "coral",
           "coral",
           "coral",
           "coral"
          ],
          "line": {
           "width": 2
          },
          "opacity": 1,
          "size": [
           18.05458956322112,
           16.83647914993237,
           19.143206982445477,
           29.14472808805104,
           42.0402387207772,
           32.80515332948286,
           31.476330007198232,
           43.21031086731053,
           43.13292784093717,
           40.26943541809111,
           40.772500875759704,
           44.589903549866456,
           47.21439822465378,
           54.15556897037014,
           49.87880850703074
          ]
         },
         "mode": "markers",
         "text": [
          "black cohosh<br>count = 37",
          "gooseflesh<br>count = 29",
          "the shits<br>count = 46",
          "night sweats<br>count = 340",
          "sweats<br>count = 4483",
          "muscle spasms<br>count = 707",
          "goosebumps<br>count = 542",
          "sweating<br>count = 5665",
          "insomnia<br>count = 5578",
          "stress<br>count = 3146",
          "chills<br>count = 3479",
          "nausea<br>count = 7465",
          "rls<br>count = 12618",
          "anxiety<br>count = 50570",
          "sleep<br>count = 21499"
         ],
         "type": "scatter",
         "x": [
          0.0006874362516729886,
          0.37129902345073906,
          -0.7493350183391055,
          -0.2927380239929721,
          0.9433571476118452,
          0.5434472553621734,
          -1,
          0.12725662576028687,
          0.7837235759420033,
          -0.8077286595544074,
          -0.1084318097647232,
          0.8958829249949136,
          0.45497307078249943,
          -0.539943594776984,
          -0.6224499537279456
         ],
         "y": [
          -0.0049059803897783215,
          0.9437032961967199,
          -0.6869773222199305,
          -0.8442693849242986,
          -0.03736270320344145,
          -0.792750576966758,
          -0.0034960689117293645,
          -0.9349222232553093,
          -0.4404600664860532,
          0.440158612740372,
          0.869137142483845,
          0.44919107342937076,
          0.4891759414758488,
          0.8036110050770569,
          -0.24983274504591654
         ]
        },
        {
         "hoverinfo": "text",
         "marker": {
          "color": "grey",
          "opacity": 0,
          "size": 50
         },
         "mode": "markers",
         "text": [
          "# connections = 3<br>ppmi = 10.01",
          "# connections = 1<br>ppmi = 8.45",
          "# connections = 3<br>ppmi = 7.55",
          "# connections = 14<br>ppmi = 6.51",
          "# connections = 2<br>ppmi = 6.41",
          "# connections = 1<br>ppmi = 5.98",
          "# connections = 4<br>ppmi = 5.02",
          "# connections = 2<br>ppmi = 4.35",
          "# connections = 1<br>ppmi = 4.23",
          "# connections = 1<br>ppmi = 4.13",
          "# connections = 2<br>ppmi = 4.05",
          "# connections = 1<br>ppmi = 2.84",
          "# connections = 3<br>ppmi = 2.55",
          "# connections = 1<br>ppmi = 2.3"
         ],
         "type": "scatter",
         "x": [
          0.18599322985120603,
          -0.37432379104371627,
          -0.14602529387064955,
          0.4720222919317591,
          0.2720673458069232,
          -0.4996562818741635,
          0.06397203100597994,
          0.39220550609683813,
          -0.4035206116513672,
          -0.05387218675652511,
          0.4482851806232933,
          0.22783025351708622,
          -0.2696280792626555,
          -0.3108812587381363
         ],
         "y": [
          0.4693986579034708,
          -0.3459416513048544,
          -0.42458768265703845,
          -0.021134341796609883,
          -0.39882827867826814,
          -0.0042010246507538426,
          -0.4699141018225438,
          -0.22268302343791574,
          0.21762631617529685,
          0.43211558104703335,
          0.22214254651979623,
          0.24213498054303526,
          0.3993525123436393,
          -0.12736936271784743
         ]
        }
       ],
       "layout": {
        "hovermode": "closest",
        "margin": {
         "b": 20,
         "l": 20,
         "r": 20,
         "t": 20
        },
        "showlegend": false,
        "template": {
         "data": {
          "bar": [
           {
            "error_x": {
             "color": "#2a3f5f"
            },
            "error_y": {
             "color": "#2a3f5f"
            },
            "marker": {
             "line": {
              "color": "#E5ECF6",
              "width": 0.5
             }
            },
            "type": "bar"
           }
          ],
          "barpolar": [
           {
            "marker": {
             "line": {
              "color": "#E5ECF6",
              "width": 0.5
             }
            },
            "type": "barpolar"
           }
          ],
          "carpet": [
           {
            "aaxis": {
             "endlinecolor": "#2a3f5f",
             "gridcolor": "white",
             "linecolor": "white",
             "minorgridcolor": "white",
             "startlinecolor": "#2a3f5f"
            },
            "baxis": {
             "endlinecolor": "#2a3f5f",
             "gridcolor": "white",
             "linecolor": "white",
             "minorgridcolor": "white",
             "startlinecolor": "#2a3f5f"
            },
            "type": "carpet"
           }
          ],
          "choropleth": [
           {
            "colorbar": {
             "outlinewidth": 0,
             "ticks": ""
            },
            "type": "choropleth"
           }
          ],
          "contour": [
           {
            "colorbar": {
             "outlinewidth": 0,
             "ticks": ""
            },
            "colorscale": [
             [
              0,
              "#0d0887"
             ],
             [
              0.1111111111111111,
              "#46039f"
             ],
             [
              0.2222222222222222,
              "#7201a8"
             ],
             [
              0.3333333333333333,
              "#9c179e"
             ],
             [
              0.4444444444444444,
              "#bd3786"
             ],
             [
              0.5555555555555556,
              "#d8576b"
             ],
             [
              0.6666666666666666,
              "#ed7953"
             ],
             [
              0.7777777777777778,
              "#fb9f3a"
             ],
             [
              0.8888888888888888,
              "#fdca26"
             ],
             [
              1,
              "#f0f921"
             ]
            ],
            "type": "contour"
           }
          ],
          "contourcarpet": [
           {
            "colorbar": {
             "outlinewidth": 0,
             "ticks": ""
            },
            "type": "contourcarpet"
           }
          ],
          "heatmap": [
           {
            "colorbar": {
             "outlinewidth": 0,
             "ticks": ""
            },
            "colorscale": [
             [
              0,
              "#0d0887"
             ],
             [
              0.1111111111111111,
              "#46039f"
             ],
             [
              0.2222222222222222,
              "#7201a8"
             ],
             [
              0.3333333333333333,
              "#9c179e"
             ],
             [
              0.4444444444444444,
              "#bd3786"
             ],
             [
              0.5555555555555556,
              "#d8576b"
             ],
             [
              0.6666666666666666,
              "#ed7953"
             ],
             [
              0.7777777777777778,
              "#fb9f3a"
             ],
             [
              0.8888888888888888,
              "#fdca26"
             ],
             [
              1,
              "#f0f921"
             ]
            ],
            "type": "heatmap"
           }
          ],
          "heatmapgl": [
           {
            "colorbar": {
             "outlinewidth": 0,
             "ticks": ""
            },
            "colorscale": [
             [
              0,
              "#0d0887"
             ],
             [
              0.1111111111111111,
              "#46039f"
             ],
             [
              0.2222222222222222,
              "#7201a8"
             ],
             [
              0.3333333333333333,
              "#9c179e"
             ],
             [
              0.4444444444444444,
              "#bd3786"
             ],
             [
              0.5555555555555556,
              "#d8576b"
             ],
             [
              0.6666666666666666,
              "#ed7953"
             ],
             [
              0.7777777777777778,
              "#fb9f3a"
             ],
             [
              0.8888888888888888,
              "#fdca26"
             ],
             [
              1,
              "#f0f921"
             ]
            ],
            "type": "heatmapgl"
           }
          ],
          "histogram": [
           {
            "marker": {
             "colorbar": {
              "outlinewidth": 0,
              "ticks": ""
             }
            },
            "type": "histogram"
           }
          ],
          "histogram2d": [
           {
            "colorbar": {
             "outlinewidth": 0,
             "ticks": ""
            },
            "colorscale": [
             [
              0,
              "#0d0887"
             ],
             [
              0.1111111111111111,
              "#46039f"
             ],
             [
              0.2222222222222222,
              "#7201a8"
             ],
             [
              0.3333333333333333,
              "#9c179e"
             ],
             [
              0.4444444444444444,
              "#bd3786"
             ],
             [
              0.5555555555555556,
              "#d8576b"
             ],
             [
              0.6666666666666666,
              "#ed7953"
             ],
             [
              0.7777777777777778,
              "#fb9f3a"
             ],
             [
              0.8888888888888888,
              "#fdca26"
             ],
             [
              1,
              "#f0f921"
             ]
            ],
            "type": "histogram2d"
           }
          ],
          "histogram2dcontour": [
           {
            "colorbar": {
             "outlinewidth": 0,
             "ticks": ""
            },
            "colorscale": [
             [
              0,
              "#0d0887"
             ],
             [
              0.1111111111111111,
              "#46039f"
             ],
             [
              0.2222222222222222,
              "#7201a8"
             ],
             [
              0.3333333333333333,
              "#9c179e"
             ],
             [
              0.4444444444444444,
              "#bd3786"
             ],
             [
              0.5555555555555556,
              "#d8576b"
             ],
             [
              0.6666666666666666,
              "#ed7953"
             ],
             [
              0.7777777777777778,
              "#fb9f3a"
             ],
             [
              0.8888888888888888,
              "#fdca26"
             ],
             [
              1,
              "#f0f921"
             ]
            ],
            "type": "histogram2dcontour"
           }
          ],
          "mesh3d": [
           {
            "colorbar": {
             "outlinewidth": 0,
             "ticks": ""
            },
            "type": "mesh3d"
           }
          ],
          "parcoords": [
           {
            "line": {
             "colorbar": {
              "outlinewidth": 0,
              "ticks": ""
             }
            },
            "type": "parcoords"
           }
          ],
          "pie": [
           {
            "automargin": true,
            "type": "pie"
           }
          ],
          "scatter": [
           {
            "marker": {
             "colorbar": {
              "outlinewidth": 0,
              "ticks": ""
             }
            },
            "type": "scatter"
           }
          ],
          "scatter3d": [
           {
            "line": {
             "colorbar": {
              "outlinewidth": 0,
              "ticks": ""
             }
            },
            "marker": {
             "colorbar": {
              "outlinewidth": 0,
              "ticks": ""
             }
            },
            "type": "scatter3d"
           }
          ],
          "scattercarpet": [
           {
            "marker": {
             "colorbar": {
              "outlinewidth": 0,
              "ticks": ""
             }
            },
            "type": "scattercarpet"
           }
          ],
          "scattergeo": [
           {
            "marker": {
             "colorbar": {
              "outlinewidth": 0,
              "ticks": ""
             }
            },
            "type": "scattergeo"
           }
          ],
          "scattergl": [
           {
            "marker": {
             "colorbar": {
              "outlinewidth": 0,
              "ticks": ""
             }
            },
            "type": "scattergl"
           }
          ],
          "scattermapbox": [
           {
            "marker": {
             "colorbar": {
              "outlinewidth": 0,
              "ticks": ""
             }
            },
            "type": "scattermapbox"
           }
          ],
          "scatterpolar": [
           {
            "marker": {
             "colorbar": {
              "outlinewidth": 0,
              "ticks": ""
             }
            },
            "type": "scatterpolar"
           }
          ],
          "scatterpolargl": [
           {
            "marker": {
             "colorbar": {
              "outlinewidth": 0,
              "ticks": ""
             }
            },
            "type": "scatterpolargl"
           }
          ],
          "scatterternary": [
           {
            "marker": {
             "colorbar": {
              "outlinewidth": 0,
              "ticks": ""
             }
            },
            "type": "scatterternary"
           }
          ],
          "surface": [
           {
            "colorbar": {
             "outlinewidth": 0,
             "ticks": ""
            },
            "colorscale": [
             [
              0,
              "#0d0887"
             ],
             [
              0.1111111111111111,
              "#46039f"
             ],
             [
              0.2222222222222222,
              "#7201a8"
             ],
             [
              0.3333333333333333,
              "#9c179e"
             ],
             [
              0.4444444444444444,
              "#bd3786"
             ],
             [
              0.5555555555555556,
              "#d8576b"
             ],
             [
              0.6666666666666666,
              "#ed7953"
             ],
             [
              0.7777777777777778,
              "#fb9f3a"
             ],
             [
              0.8888888888888888,
              "#fdca26"
             ],
             [
              1,
              "#f0f921"
             ]
            ],
            "type": "surface"
           }
          ],
          "table": [
           {
            "cells": {
             "fill": {
              "color": "#EBF0F8"
             },
             "line": {
              "color": "white"
             }
            },
            "header": {
             "fill": {
              "color": "#C8D4E3"
             },
             "line": {
              "color": "white"
             }
            },
            "type": "table"
           }
          ]
         },
         "layout": {
          "annotationdefaults": {
           "arrowcolor": "#2a3f5f",
           "arrowhead": 0,
           "arrowwidth": 1
          },
          "autotypenumbers": "strict",
          "coloraxis": {
           "colorbar": {
            "outlinewidth": 0,
            "ticks": ""
           }
          },
          "colorscale": {
           "diverging": [
            [
             0,
             "#8e0152"
            ],
            [
             0.1,
             "#c51b7d"
            ],
            [
             0.2,
             "#de77ae"
            ],
            [
             0.3,
             "#f1b6da"
            ],
            [
             0.4,
             "#fde0ef"
            ],
            [
             0.5,
             "#f7f7f7"
            ],
            [
             0.6,
             "#e6f5d0"
            ],
            [
             0.7,
             "#b8e186"
            ],
            [
             0.8,
             "#7fbc41"
            ],
            [
             0.9,
             "#4d9221"
            ],
            [
             1,
             "#276419"
            ]
           ],
           "sequential": [
            [
             0,
             "#0d0887"
            ],
            [
             0.1111111111111111,
             "#46039f"
            ],
            [
             0.2222222222222222,
             "#7201a8"
            ],
            [
             0.3333333333333333,
             "#9c179e"
            ],
            [
             0.4444444444444444,
             "#bd3786"
            ],
            [
             0.5555555555555556,
             "#d8576b"
            ],
            [
             0.6666666666666666,
             "#ed7953"
            ],
            [
             0.7777777777777778,
             "#fb9f3a"
            ],
            [
             0.8888888888888888,
             "#fdca26"
            ],
            [
             1,
             "#f0f921"
            ]
           ],
           "sequentialminus": [
            [
             0,
             "#0d0887"
            ],
            [
             0.1111111111111111,
             "#46039f"
            ],
            [
             0.2222222222222222,
             "#7201a8"
            ],
            [
             0.3333333333333333,
             "#9c179e"
            ],
            [
             0.4444444444444444,
             "#bd3786"
            ],
            [
             0.5555555555555556,
             "#d8576b"
            ],
            [
             0.6666666666666666,
             "#ed7953"
            ],
            [
             0.7777777777777778,
             "#fb9f3a"
            ],
            [
             0.8888888888888888,
             "#fdca26"
            ],
            [
             1,
             "#f0f921"
            ]
           ]
          },
          "colorway": [
           "#636efa",
           "#EF553B",
           "#00cc96",
           "#ab63fa",
           "#FFA15A",
           "#19d3f3",
           "#FF6692",
           "#B6E880",
           "#FF97FF",
           "#FECB52"
          ],
          "font": {
           "color": "#2a3f5f"
          },
          "geo": {
           "bgcolor": "white",
           "lakecolor": "white",
           "landcolor": "#E5ECF6",
           "showlakes": true,
           "showland": true,
           "subunitcolor": "white"
          },
          "hoverlabel": {
           "align": "left"
          },
          "hovermode": "closest",
          "mapbox": {
           "style": "light"
          },
          "paper_bgcolor": "white",
          "plot_bgcolor": "#E5ECF6",
          "polar": {
           "angularaxis": {
            "gridcolor": "white",
            "linecolor": "white",
            "ticks": ""
           },
           "bgcolor": "#E5ECF6",
           "radialaxis": {
            "gridcolor": "white",
            "linecolor": "white",
            "ticks": ""
           }
          },
          "scene": {
           "xaxis": {
            "backgroundcolor": "#E5ECF6",
            "gridcolor": "white",
            "gridwidth": 2,
            "linecolor": "white",
            "showbackground": true,
            "ticks": "",
            "zerolinecolor": "white"
           },
           "yaxis": {
            "backgroundcolor": "#E5ECF6",
            "gridcolor": "white",
            "gridwidth": 2,
            "linecolor": "white",
            "showbackground": true,
            "ticks": "",
            "zerolinecolor": "white"
           },
           "zaxis": {
            "backgroundcolor": "#E5ECF6",
            "gridcolor": "white",
            "gridwidth": 2,
            "linecolor": "white",
            "showbackground": true,
            "ticks": "",
            "zerolinecolor": "white"
           }
          },
          "shapedefaults": {
           "line": {
            "color": "#2a3f5f"
           }
          },
          "ternary": {
           "aaxis": {
            "gridcolor": "white",
            "linecolor": "white",
            "ticks": ""
           },
           "baxis": {
            "gridcolor": "white",
            "linecolor": "white",
            "ticks": ""
           },
           "bgcolor": "#E5ECF6",
           "caxis": {
            "gridcolor": "white",
            "linecolor": "white",
            "ticks": ""
           }
          },
          "title": {
           "x": 0.05
          },
          "xaxis": {
           "automargin": true,
           "gridcolor": "white",
           "linecolor": "white",
           "ticks": "",
           "title": {
            "standoff": 15
           },
           "zerolinecolor": "white",
           "zerolinewidth": 2
          },
          "yaxis": {
           "automargin": true,
           "gridcolor": "white",
           "linecolor": "white",
           "ticks": "",
           "title": {
            "standoff": 15
           },
           "zerolinecolor": "white",
           "zerolinewidth": 2
          }
         }
        },
        "title": {
         "font": {
          "size": 16
         }
        },
        "xaxis": {
         "showgrid": false,
         "showticklabels": false,
         "zeroline": false
        },
        "yaxis": {
         "showgrid": false,
         "showticklabels": false,
         "zeroline": false
        }
       }
      }
     },
     "metadata": {}
    }
   ],
   "source": [
    "fig = go.Figure(\n",
    "   layout=go.Layout(\n",
    "      titlefont_size=16,\n",
    "      showlegend=False,\n",
    "      hovermode='closest',\n",
    "      margin=dict(b=20,l=20,r=20,t=20),\n",
    "      xaxis=dict(showgrid=False, zeroline=False, showticklabels=False),\n",
    "      yaxis=dict(showgrid=False, zeroline=False, showticklabels=False)\n",
    "   )\n",
    ")\n",
    "\n",
    "for trace in edge_traces:\n",
    "   fig.add_trace(trace)\n",
    "fig.add_trace(node_trace)\n",
    "fig.add_trace(edge_midpoint_trace)\n",
    "\n",
    "fig.show()"
   ]
  },
  {
   "cell_type": "code",
   "execution_count": null,
   "metadata": {},
   "outputs": [],
   "source": []
  }
 ]
}